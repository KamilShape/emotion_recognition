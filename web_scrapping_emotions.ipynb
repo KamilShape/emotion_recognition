{
  "nbformat": 4,
  "nbformat_minor": 0,
  "metadata": {
    "colab": {
      "provenance": [],
      "authorship_tag": "ABX9TyP/DdFSqO9cMMEK3M9JOkHW",
      "include_colab_link": true
    },
    "kernelspec": {
      "name": "python3",
      "display_name": "Python 3"
    },
    "language_info": {
      "name": "python"
    }
  },
  "cells": [
    {
      "cell_type": "markdown",
      "metadata": {
        "id": "view-in-github",
        "colab_type": "text"
      },
      "source": [
        "<a href=\"https://colab.research.google.com/github/KamilShape/emotion_recognition/blob/main/web_scrapping_emotions.ipynb\" target=\"_parent\"><img src=\"https://colab.research.google.com/assets/colab-badge.svg\" alt=\"Open In Colab\"/></a>"
      ]
    },
    {
      "cell_type": "code",
      "execution_count": 1,
      "metadata": {
        "colab": {
          "base_uri": "https://localhost:8080/"
        },
        "id": "Y9H-UGjUPwCZ",
        "outputId": "4d4859b1-cfad-41fd-c5fb-4eadbd8edf6f"
      },
      "outputs": [
        {
          "output_type": "stream",
          "name": "stdout",
          "text": [
            "Initialized empty Git repository in /content/.git/\n"
          ]
        }
      ],
      "source": [
        "!git init"
      ]
    },
    {
      "cell_type": "code",
      "source": [
        "!git remote add origin https://github.com/KamilShape/emotion_recognition.git"
      ],
      "metadata": {
        "id": "0ubxP-bLQT9y"
      },
      "execution_count": 2,
      "outputs": []
    },
    {
      "cell_type": "code",
      "source": [
        "import requests\n",
        "from bs4 import BeautifulSoup\n",
        "from PIL import Image\n",
        "from io import BytesIO\n",
        "import random\n",
        "import os\n",
        "import numpy as np"
      ],
      "metadata": {
        "id": "k__qgcvDS7i8"
      },
      "execution_count": 4,
      "outputs": []
    },
    {
      "cell_type": "code",
      "source": [
        "from google.colab import drive\n",
        "drive.mount('/content/drive', force_remount=True)"
      ],
      "metadata": {
        "colab": {
          "base_uri": "https://localhost:8080/"
        },
        "id": "VuREmh6PStW3",
        "outputId": "db7b4e44-2194-4b49-e229-ea773c0b15d4"
      },
      "execution_count": 3,
      "outputs": [
        {
          "output_type": "stream",
          "name": "stdout",
          "text": [
            "Mounted at /content/drive\n"
          ]
        }
      ]
    },
    {
      "cell_type": "code",
      "source": [
        "def parse_url(content):\n",
        "  soup = BeautifulSoup(content, 'html.parser')\n",
        "  imgs = soup.find_all('img', {'class': 'grid-image'})\n",
        "  print(imgs)\n",
        "  return [img['src'] for img in imgs]"
      ],
      "metadata": {
        "id": "A-cLZeMxS2vx"
      },
      "execution_count": 47,
      "outputs": []
    },
    {
      "cell_type": "code",
      "source": [
        "def get_page(face, page):\n",
        "  url = f'https://www.freeimages.com/search/{face}/{page}'\n",
        "  print(url)\n",
        "  try:\n",
        "    response = requests.get(url)\n",
        "    content = response.content\n",
        "    print(response)\n",
        "    return content\n",
        "  except:\n",
        "    print('Error! Wrong url.')"
      ],
      "metadata": {
        "id": "rohwGdScTBRz"
      },
      "execution_count": 48,
      "outputs": []
    },
    {
      "cell_type": "code",
      "source": [
        "def get_image(photo_url, path, file_name, style):\n",
        "  image_response = requests.get(photo_url)\n",
        "  image_content = image_response.content\n",
        "  img = Image.open(BytesIO(image_content))\n",
        "  if img.mode == 'RGB':\n",
        "    os.makedirs(f'{path}/{style}', exist_ok=True)\n",
        "    img.save(f'{path}/{style}/{file_name}', 'png')"
      ],
      "metadata": {
        "id": "YTDpgr54TJ-u"
      },
      "execution_count": 50,
      "outputs": []
    },
    {
      "cell_type": "code",
      "source": [
        "train_path = 'drive/MyDrive/faces/data/train'"
      ],
      "metadata": {
        "id": "wWqmQe_pTNKJ"
      },
      "execution_count": 38,
      "outputs": []
    },
    {
      "cell_type": "code",
      "source": [
        "def get_photos(face, page, path):\n",
        "  content = get_page(face, page)\n",
        "  images = parse_url(content)\n",
        "  for image in images:\n",
        "    print(image)\n",
        "    if len(image) > 5:\n",
        "      file_name = image.split('/')[-1]\n",
        "      get_image(image, train_path, file_name, face)"
      ],
      "metadata": {
        "id": "8bZHNrBUTfW6"
      },
      "execution_count": 52,
      "outputs": []
    },
    {
      "cell_type": "code",
      "source": [
        "faces = ['smiling-person']"
      ],
      "metadata": {
        "id": "oGRn7qfsTlkm"
      },
      "execution_count": 53,
      "outputs": []
    },
    {
      "cell_type": "code",
      "source": [
        "#DOWNLOADING ALL PHOTOS\n",
        "pages = 1\n",
        "for face  in faces:\n",
        "  for page in range(1,pages +1):\n",
        "    get_photos(face, page, train_path)"
      ],
      "metadata": {
        "colab": {
          "base_uri": "https://localhost:8080/",
          "height": 1000
        },
        "id": "94JuvDFyTjNG",
        "outputId": "8c42ee35-7807-46f8-f85f-01b6fb89bdc7"
      },
      "execution_count": 54,
      "outputs": [
        {
          "output_type": "stream",
          "name": "stdout",
          "text": [
            "https://www.freeimages.com/search/smiling-person/1\n",
            "<Response [200]>\n",
            "[<img alt=\"\" class=\"grid-image w-full object-cover\" loading=\"lazy\" src=\"data:image/png;base64,iVBORw0KGgoAAAANSUhEUgAAAAEAAAABCAYAAAAfFcSJAAAAAXNSR0IArs4c6QAAAAtJREFUGFdjYAACAAAFAAGq1chRAAAAAElFTkSuQmCC\"/>, <img alt=\"Farmers are walking at sunset.\" class=\"grid-image h-full w-full object-cover lazy\" data-src=\"https://images.freeimages.com/images/previews/38b/farmers-are-walking-at-sunset-1639677.jpg\" height=\"3393\" src=\"https://images.freeimages.com/images/grids/38b/farmers-are-walking-at-sunset-1639677.jpg\" width=\"5089\">\n",
            "</img>, <img alt=\"Requiem for a daily dream... 2\" class=\"grid-image h-full w-full object-cover lazy\" data-src=\"https://images.freeimages.com/images/previews/8c4/requiem-for-a-daily-dream-2-1428558.jpg\" height=\"1485\" src=\"https://images.freeimages.com/images/grids/8c4/requiem-for-a-daily-dream-2-1428558.jpg\" width=\"2640\">\n",
            "</img>, <img alt=\"\" class=\"grid-image w-full object-cover\" loading=\"lazy\" src=\"data:image/png;base64,iVBORw0KGgoAAAANSUhEUgAAAAEAAAABCAYAAAAfFcSJAAAAAXNSR0IArs4c6QAAAAtJREFUGFdjYAACAAAFAAGq1chRAAAAAElFTkSuQmCC\"/>, <img alt=\"Girl\" class=\"grid-image h-full w-full object-cover lazy\" data-src=\"https://images.freeimages.com/images/previews/0b4/girl-1429098.jpg\" height=\"3872\" src=\"https://images.freeimages.com/images/grids/0b4/girl-1429098.jpg\" width=\"2592\">\n",
            "</img>, <img alt=\"Girl\" class=\"grid-image h-full w-full object-cover lazy\" data-src=\"https://images.freeimages.com/images/previews/323/girl-1429089.jpg\" height=\"3872\" src=\"https://images.freeimages.com/images/grids/323/girl-1429089.jpg\" width=\"2592\">\n",
            "</img>, <img alt=\"Girl\" class=\"grid-image h-full w-full object-cover lazy\" data-src=\"https://images.freeimages.com/images/previews/386/girl-1429105.jpg\" height=\"3872\" src=\"https://images.freeimages.com/images/grids/386/girl-1429105.jpg\" width=\"2592\">\n",
            "</img>, <img alt=\"Attitude\" class=\"grid-image h-full w-full object-cover lazy\" data-src=\"https://images.freeimages.com/images/previews/a66/attitude-1414263.jpg\" height=\"3872\" src=\"https://images.freeimages.com/images/grids/a66/attitude-1414263.jpg\" width=\"2592\">\n",
            "</img>, <img alt=\"boy on porch with laptop\" class=\"grid-image h-full w-full object-cover lazy\" data-src=\"https://images.freeimages.com/variants/bjbhqqHhr4ELsQ3hCYvyPmXx/f4a36f6589a0e50e702740b15352bc00e4bfaf6f58bd4db850e167794d05993d\" height=\"5100\" src=\"https://images.freeimages.com/variants/bjbhqqHhr4ELsQ3hCYvyPmXx/624f0dc1dff9bdccab032f93c33e79de78481770e79e21d3b0469daf51f02797\" width=\"3400\">\n",
            "</img>, <img alt=\"Power\" class=\"grid-image h-full w-full object-cover lazy\" data-src=\"https://images.freeimages.com/images/previews/a94/power-1429668.jpg\" height=\"3872\" src=\"https://images.freeimages.com/images/grids/a94/power-1429668.jpg\" width=\"2592\">\n",
            "</img>, <img alt=\"Power\" class=\"grid-image h-full w-full object-cover lazy\" data-src=\"https://images.freeimages.com/images/previews/f7c/power-1429672.jpg\" height=\"2378\" src=\"https://images.freeimages.com/images/grids/f7c/power-1429672.jpg\" width=\"1592\">\n",
            "</img>, <img alt=\"portrait of baby smiling\" class=\"grid-image h-full w-full object-cover lazy\" data-src=\"https://images.freeimages.com/variants/2tzF38t4CrAUdRLbdd9UqGVL/f4a36f6589a0e50e702740b15352bc00e4bfaf6f58bd4db850e167794d05993d\" height=\"3328\" src=\"https://images.freeimages.com/variants/2tzF38t4CrAUdRLbdd9UqGVL/624f0dc1dff9bdccab032f93c33e79de78481770e79e21d3b0469daf51f02797\" width=\"4992\">\n",
            "</img>, <img alt=\"\" class=\"grid-image w-full object-cover\" loading=\"lazy\" src=\"data:image/png;base64,iVBORw0KGgoAAAANSUhEUgAAAAEAAAABCAYAAAAfFcSJAAAAAXNSR0IArs4c6QAAAAtJREFUGFdjYAACAAAFAAGq1chRAAAAAElFTkSuQmCC\"/>, <img alt=\"Boy swinging\" class=\"grid-image h-full w-full object-cover lazy\" data-src=\"https://images.freeimages.com/variants/tqfHkvoGiKsbreVg4bM25QtB/f4a36f6589a0e50e702740b15352bc00e4bfaf6f58bd4db850e167794d05993d\" height=\"4992\" src=\"https://images.freeimages.com/variants/tqfHkvoGiKsbreVg4bM25QtB/624f0dc1dff9bdccab032f93c33e79de78481770e79e21d3b0469daf51f02797\" width=\"3328\">\n",
            "</img>, <img alt=\"\" class=\"grid-image w-full object-cover\" loading=\"lazy\" src=\"data:image/png;base64,iVBORw0KGgoAAAANSUhEUgAAAAEAAAABCAYAAAAfFcSJAAAAAXNSR0IArs4c6QAAAAtJREFUGFdjYAACAAAFAAGq1chRAAAAAElFTkSuQmCC\"/>, <img alt=\"Young girl wearing mother's hat, on sofa\" class=\"grid-image h-full w-full object-cover lazy\" data-src=\"https://images.freeimages.com/variants/HqMHjDDUiYk5p85eG2evUT6S/f4a36f6589a0e50e702740b15352bc00e4bfaf6f58bd4db850e167794d05993d\" height=\"4922\" src=\"https://images.freeimages.com/variants/HqMHjDDUiYk5p85eG2evUT6S/624f0dc1dff9bdccab032f93c33e79de78481770e79e21d3b0469daf51f02797\" width=\"3408\">\n",
            "</img>, <img alt=\"co-workers on computer\" class=\"grid-image h-full w-full object-cover lazy\" data-src=\"https://images.freeimages.com/variants/F5r7RbLyYwT61GAy3xFDLz1q/f4a36f6589a0e50e702740b15352bc00e4bfaf6f58bd4db850e167794d05993d\" height=\"3400\" src=\"https://images.freeimages.com/variants/F5r7RbLyYwT61GAy3xFDLz1q/624f0dc1dff9bdccab032f93c33e79de78481770e79e21d3b0469daf51f02797\" width=\"5100\">\n",
            "</img>, <img alt=\"Woman on beach\" class=\"grid-image h-full w-full object-cover lazy\" data-src=\"https://images.freeimages.com/variants/PWkozbavGwA97dEfXVXZxyyp/f4a36f6589a0e50e702740b15352bc00e4bfaf6f58bd4db850e167794d05993d\" height=\"3333\" src=\"https://images.freeimages.com/variants/PWkozbavGwA97dEfXVXZxyyp/624f0dc1dff9bdccab032f93c33e79de78481770e79e21d3b0469daf51f02797\" width=\"5000\">\n",
            "</img>, <img alt=\"Woman sitting on cart and holding turkey\" class=\"grid-image h-full w-full object-cover lazy\" data-src=\"https://images.freeimages.com/variants/cyMzyxQnUUHdGXn77pdgbxBL/f4a36f6589a0e50e702740b15352bc00e4bfaf6f58bd4db850e167794d05993d\" height=\"4871\" src=\"https://images.freeimages.com/variants/cyMzyxQnUUHdGXn77pdgbxBL/624f0dc1dff9bdccab032f93c33e79de78481770e79e21d3b0469daf51f02797\" width=\"3696\">\n",
            "</img>, <img alt=\"Man in top hat pointing at 1st of January in book\" class=\"grid-image h-full w-full object-cover lazy\" data-src=\"https://images.freeimages.com/variants/HwjFanq2ExJR6A1ULiMx4nTM/f4a36f6589a0e50e702740b15352bc00e4bfaf6f58bd4db850e167794d05993d\" height=\"4678\" src=\"https://images.freeimages.com/variants/HwjFanq2ExJR6A1ULiMx4nTM/624f0dc1dff9bdccab032f93c33e79de78481770e79e21d3b0469daf51f02797\" width=\"3700\">\n",
            "</img>, <img alt=\"\" class=\"grid-image w-full object-cover\" loading=\"lazy\" src=\"data:image/png;base64,iVBORw0KGgoAAAANSUhEUgAAAAEAAAABCAYAAAAfFcSJAAAAAXNSR0IArs4c6QAAAAtJREFUGFdjYAACAAAFAAGq1chRAAAAAElFTkSuQmCC\"/>, <img alt=\"Studio portrait of young woman in costume with basket of eggs\" class=\"grid-image h-full w-full object-cover lazy\" data-src=\"https://images.freeimages.com/variants/HDbVaeqxKvftyzhMxn2iTKjj/f4a36f6589a0e50e702740b15352bc00e4bfaf6f58bd4db850e167794d05993d\" height=\"4697\" src=\"https://images.freeimages.com/variants/HDbVaeqxKvftyzhMxn2iTKjj/624f0dc1dff9bdccab032f93c33e79de78481770e79e21d3b0469daf51f02797\" width=\"3670\">\n",
            "</img>, <img alt=\"\" class=\"grid-image w-full object-cover\" loading=\"lazy\" src=\"data:image/png;base64,iVBORw0KGgoAAAANSUhEUgAAAAEAAAABCAYAAAAfFcSJAAAAAXNSR0IArs4c6QAAAAtJREFUGFdjYAACAAAFAAGq1chRAAAAAElFTkSuQmCC\"/>, <img alt=\"Portrait of woman sitting at desk with documents\" class=\"grid-image h-full w-full object-cover lazy\" data-src=\"https://images.freeimages.com/variants/KxtSFueqT964murHa28NMDAG/f4a36f6589a0e50e702740b15352bc00e4bfaf6f58bd4db850e167794d05993d\" height=\"3702\" src=\"https://images.freeimages.com/variants/KxtSFueqT964murHa28NMDAG/624f0dc1dff9bdccab032f93c33e79de78481770e79e21d3b0469daf51f02797\" width=\"4650\">\n",
            "</img>, <img alt=\"Woman washing car in yard\" class=\"grid-image h-full w-full object-cover lazy\" data-src=\"https://images.freeimages.com/variants/3NgXt9q5zrNfYf3rSvPx7Z7H/f4a36f6589a0e50e702740b15352bc00e4bfaf6f58bd4db850e167794d05993d\" height=\"4682\" src=\"https://images.freeimages.com/variants/3NgXt9q5zrNfYf3rSvPx7Z7H/624f0dc1dff9bdccab032f93c33e79de78481770e79e21d3b0469daf51f02797\" width=\"3700\">\n",
            "</img>, <img alt=\"\" class=\"grid-image w-full object-cover\" loading=\"lazy\" src=\"data:image/png;base64,iVBORw0KGgoAAAANSUhEUgAAAAEAAAABCAYAAAAfFcSJAAAAAXNSR0IArs4c6QAAAAtJREFUGFdjYAACAAAFAAGq1chRAAAAAElFTkSuQmCC\"/>, <img alt=\"Boy (14-15) hitting bowl with spoon at 12 o'clock\" class=\"grid-image h-full w-full object-cover lazy\" data-src=\"https://images.freeimages.com/variants/iBB9TgdedsYtPdScAMLNJzy9/f4a36f6589a0e50e702740b15352bc00e4bfaf6f58bd4db850e167794d05993d\" height=\"4639\" src=\"https://images.freeimages.com/variants/iBB9TgdedsYtPdScAMLNJzy9/624f0dc1dff9bdccab032f93c33e79de78481770e79e21d3b0469daf51f02797\" width=\"3710\">\n",
            "</img>, <img alt=\"Businessman sitting at desk and talking on phone\" class=\"grid-image h-full w-full object-cover lazy\" data-src=\"https://images.freeimages.com/variants/umjGzbRxm3L6K181eCzoCwwr/f4a36f6589a0e50e702740b15352bc00e4bfaf6f58bd4db850e167794d05993d\" height=\"4639\" src=\"https://images.freeimages.com/variants/umjGzbRxm3L6K181eCzoCwwr/624f0dc1dff9bdccab032f93c33e79de78481770e79e21d3b0469daf51f02797\" width=\"3710\">\n",
            "</img>, <img alt=\"\" class=\"grid-image w-full object-cover\" loading=\"lazy\" src=\"data:image/png;base64,iVBORw0KGgoAAAANSUhEUgAAAAEAAAABCAYAAAAfFcSJAAAAAXNSR0IArs4c6QAAAAtJREFUGFdjYAACAAAFAAGq1chRAAAAAElFTkSuQmCC\"/>, <img alt=\"Studio portrait of mid adult man smiling\" class=\"grid-image h-full w-full object-cover lazy\" data-src=\"https://images.freeimages.com/variants/YGZtZ9CemCD1EYMn9QNo65MZ/f4a36f6589a0e50e702740b15352bc00e4bfaf6f58bd4db850e167794d05993d\" height=\"4640\" src=\"https://images.freeimages.com/variants/YGZtZ9CemCD1EYMn9QNo65MZ/624f0dc1dff9bdccab032f93c33e79de78481770e79e21d3b0469daf51f02797\" width=\"3720\">\n",
            "</img>, <img alt=\"Portrait of woman in Halloween costume\" class=\"grid-image h-full w-full object-cover lazy\" data-src=\"https://images.freeimages.com/variants/89e8MfszBZxUZhLJ5bBGnWyt/f4a36f6589a0e50e702740b15352bc00e4bfaf6f58bd4db850e167794d05993d\" height=\"4579\" src=\"https://images.freeimages.com/variants/89e8MfszBZxUZhLJ5bBGnWyt/624f0dc1dff9bdccab032f93c33e79de78481770e79e21d3b0469daf51f02797\" width=\"3760\">\n",
            "</img>, <img alt=\"Portrait of girl (6-7) peeking through heart-shaped hole in wall\" class=\"grid-image h-full w-full object-cover lazy\" data-src=\"https://images.freeimages.com/variants/CUAtX1vxGH6qzukJu2iXPKS1/f4a36f6589a0e50e702740b15352bc00e4bfaf6f58bd4db850e167794d05993d\" height=\"4612\" src=\"https://images.freeimages.com/variants/CUAtX1vxGH6qzukJu2iXPKS1/624f0dc1dff9bdccab032f93c33e79de78481770e79e21d3b0469daf51f02797\" width=\"3750\">\n",
            "</img>, <img alt=\"\" class=\"grid-image w-full object-cover\" loading=\"lazy\" src=\"data:image/png;base64,iVBORw0KGgoAAAANSUhEUgAAAAEAAAABCAYAAAAfFcSJAAAAAXNSR0IArs4c6QAAAAtJREFUGFdjYAACAAAFAAGq1chRAAAAAElFTkSuQmCC\"/>, <img alt=\"Portrait of young man waterskiing, view from above\" class=\"grid-image h-full w-full object-cover lazy\" data-src=\"https://images.freeimages.com/variants/ur2zzP5MJWhaBvLyKdWmWHC9/f4a36f6589a0e50e702740b15352bc00e4bfaf6f58bd4db850e167794d05993d\" height=\"4725\" src=\"https://images.freeimages.com/variants/ur2zzP5MJWhaBvLyKdWmWHC9/624f0dc1dff9bdccab032f93c33e79de78481770e79e21d3b0469daf51f02797\" width=\"3765\">\n",
            "</img>, <img alt=\"Boy (2-3) sitting on floor and playing with marbles\" class=\"grid-image h-full w-full object-cover lazy\" data-src=\"https://images.freeimages.com/variants/W3Btv9Ccwpaf5pdb6ECzbPVT/f4a36f6589a0e50e702740b15352bc00e4bfaf6f58bd4db850e167794d05993d\" height=\"4631\" src=\"https://images.freeimages.com/variants/W3Btv9Ccwpaf5pdb6ECzbPVT/624f0dc1dff9bdccab032f93c33e79de78481770e79e21d3b0469daf51f02797\" width=\"3720\">\n",
            "</img>, <img alt=\"Doctor sitting at desk and writing prescription\" class=\"grid-image h-full w-full object-cover lazy\" data-src=\"https://images.freeimages.com/variants/BXx5zPxC8CXdWU1GcUaifG7u/f4a36f6589a0e50e702740b15352bc00e4bfaf6f58bd4db850e167794d05993d\" height=\"4641\" src=\"https://images.freeimages.com/variants/BXx5zPxC8CXdWU1GcUaifG7u/624f0dc1dff9bdccab032f93c33e79de78481770e79e21d3b0469daf51f02797\" width=\"3720\">\n",
            "</img>, <img alt=\"Portrait of young woman in cowboy costume\" class=\"grid-image h-full w-full object-cover lazy\" data-src=\"https://images.freeimages.com/variants/rd3byFP3vdYdVmd5C9W9pkW9/f4a36f6589a0e50e702740b15352bc00e4bfaf6f58bd4db850e167794d05993d\" height=\"4869\" src=\"https://images.freeimages.com/variants/rd3byFP3vdYdVmd5C9W9pkW9/624f0dc1dff9bdccab032f93c33e79de78481770e79e21d3b0469daf51f02797\" width=\"3656\">\n",
            "</img>, <img alt=\"Baby girl (6-11 months) unwrapping presents by Christmas tree\" class=\"grid-image h-full w-full object-cover lazy\" data-src=\"https://images.freeimages.com/variants/3NXTJ7iFZqBFi5ufkFGy77ZU/f4a36f6589a0e50e702740b15352bc00e4bfaf6f58bd4db850e167794d05993d\" height=\"3761\" src=\"https://images.freeimages.com/variants/3NXTJ7iFZqBFi5ufkFGy77ZU/624f0dc1dff9bdccab032f93c33e79de78481770e79e21d3b0469daf51f02797\" width=\"4708\">\n",
            "</img>, <img alt=\"woman listening to music\" class=\"grid-image h-full w-full object-cover lazy\" data-src=\"https://images.freeimages.com/variants/iwreTHpiZwBrbV2cNLawasZx/f4a36f6589a0e50e702740b15352bc00e4bfaf6f58bd4db850e167794d05993d\" height=\"3328\" src=\"https://images.freeimages.com/variants/iwreTHpiZwBrbV2cNLawasZx/624f0dc1dff9bdccab032f93c33e79de78481770e79e21d3b0469daf51f02797\" width=\"4992\">\n",
            "</img>, <img alt=\"Portrait of a woman standing by the sea\" class=\"grid-image h-full w-full object-cover lazy\" data-src=\"https://images.freeimages.com/variants/avZwn43qsnM3JUCp3Z42hbdi/f4a36f6589a0e50e702740b15352bc00e4bfaf6f58bd4db850e167794d05993d\" height=\"3328\" src=\"https://images.freeimages.com/variants/avZwn43qsnM3JUCp3Z42hbdi/624f0dc1dff9bdccab032f93c33e79de78481770e79e21d3b0469daf51f02797\" width=\"4992\">\n",
            "</img>, <img alt=\"\" class=\"grid-image w-full object-cover\" loading=\"lazy\" src=\"data:image/png;base64,iVBORw0KGgoAAAANSUhEUgAAAAEAAAABCAYAAAAfFcSJAAAAAXNSR0IArs4c6QAAAAtJREFUGFdjYAACAAAFAAGq1chRAAAAAElFTkSuQmCC\"/>, <img alt=\"portrait of a man sitting by the swimming pool\" class=\"grid-image h-full w-full object-cover lazy\" data-src=\"https://images.freeimages.com/variants/KsknxLKykii6QpaRZXm4Ntd7/f4a36f6589a0e50e702740b15352bc00e4bfaf6f58bd4db850e167794d05993d\" height=\"3328\" src=\"https://images.freeimages.com/variants/KsknxLKykii6QpaRZXm4Ntd7/624f0dc1dff9bdccab032f93c33e79de78481770e79e21d3b0469daf51f02797\" width=\"4992\">\n",
            "</img>, <img alt=\"portrait of a man sitting by the swimming pool\" class=\"grid-image h-full w-full object-cover lazy\" data-src=\"https://images.freeimages.com/variants/pyxMmzooNT4PKPgrBtCgWbDF/f4a36f6589a0e50e702740b15352bc00e4bfaf6f58bd4db850e167794d05993d\" height=\"3328\" src=\"https://images.freeimages.com/variants/pyxMmzooNT4PKPgrBtCgWbDF/624f0dc1dff9bdccab032f93c33e79de78481770e79e21d3b0469daf51f02797\" width=\"4992\">\n",
            "</img>, <img alt=\"man sitting at a table\" class=\"grid-image h-full w-full object-cover lazy\" data-src=\"https://images.freeimages.com/variants/mhiHJ4xNPE4Cqnuj5WoQxKP1/f4a36f6589a0e50e702740b15352bc00e4bfaf6f58bd4db850e167794d05993d\" height=\"4992\" src=\"https://images.freeimages.com/variants/mhiHJ4xNPE4Cqnuj5WoQxKP1/624f0dc1dff9bdccab032f93c33e79de78481770e79e21d3b0469daf51f02797\" width=\"3328\">\n",
            "</img>, <img alt=\" portrait of a man sitting at the dinner table\" class=\"grid-image h-full w-full object-cover lazy\" data-src=\"https://images.freeimages.com/variants/GmpcnCRqAVzeJUEi2TFz6uad/f4a36f6589a0e50e702740b15352bc00e4bfaf6f58bd4db850e167794d05993d\" height=\"3328\" src=\"https://images.freeimages.com/variants/GmpcnCRqAVzeJUEi2TFz6uad/624f0dc1dff9bdccab032f93c33e79de78481770e79e21d3b0469daf51f02797\" width=\"4992\">\n",
            "</img>, <img alt=\"portrait of a man having dinner outside\" class=\"grid-image h-full w-full object-cover lazy\" data-src=\"https://images.freeimages.com/variants/fDwTAPcdVhvCMMyeNQVS22HY/f4a36f6589a0e50e702740b15352bc00e4bfaf6f58bd4db850e167794d05993d\" height=\"3328\" src=\"https://images.freeimages.com/variants/fDwTAPcdVhvCMMyeNQVS22HY/624f0dc1dff9bdccab032f93c33e79de78481770e79e21d3b0469daf51f02797\" width=\"4992\">\n",
            "</img>, <img alt=\"portrait of a man sitting by the swimming pool\" class=\"grid-image h-full w-full object-cover lazy\" data-src=\"https://images.freeimages.com/variants/s4pUNDJDZ62ie1YwvSwbhX4C/f4a36f6589a0e50e702740b15352bc00e4bfaf6f58bd4db850e167794d05993d\" height=\"3328\" src=\"https://images.freeimages.com/variants/s4pUNDJDZ62ie1YwvSwbhX4C/624f0dc1dff9bdccab032f93c33e79de78481770e79e21d3b0469daf51f02797\" width=\"4992\">\n",
            "</img>, <img alt=\"\" class=\"grid-image w-full object-cover\" loading=\"lazy\" src=\"data:image/png;base64,iVBORw0KGgoAAAANSUhEUgAAAAEAAAABCAYAAAAfFcSJAAAAAXNSR0IArs4c6QAAAAtJREFUGFdjYAACAAAFAAGq1chRAAAAAElFTkSuQmCC\"/>, <img alt=\"portrait of a man sitting by the swimming pool\" class=\"grid-image h-full w-full object-cover lazy\" data-src=\"https://images.freeimages.com/variants/NY6phNozwRdBo8Rbhi8Hnosh/f4a36f6589a0e50e702740b15352bc00e4bfaf6f58bd4db850e167794d05993d\" height=\"3328\" src=\"https://images.freeimages.com/variants/NY6phNozwRdBo8Rbhi8Hnosh/624f0dc1dff9bdccab032f93c33e79de78481770e79e21d3b0469daf51f02797\" width=\"4992\">\n",
            "</img>, <img alt=\"portrait of a man sitting at the dinner table\" class=\"grid-image h-full w-full object-cover lazy\" data-src=\"https://images.freeimages.com/variants/gwXbqi5xQ7ijfcNtJQinJBwN/f4a36f6589a0e50e702740b15352bc00e4bfaf6f58bd4db850e167794d05993d\" height=\"4992\" src=\"https://images.freeimages.com/variants/gwXbqi5xQ7ijfcNtJQinJBwN/624f0dc1dff9bdccab032f93c33e79de78481770e79e21d3b0469daf51f02797\" width=\"3328\">\n",
            "</img>, <img alt=\"portrait of a man having dinner outside\" class=\"grid-image h-full w-full object-cover lazy\" data-src=\"https://images.freeimages.com/variants/ZPajjFEdL2Lw5WPebGxRd9GW/f4a36f6589a0e50e702740b15352bc00e4bfaf6f58bd4db850e167794d05993d\" height=\"3328\" src=\"https://images.freeimages.com/variants/ZPajjFEdL2Lw5WPebGxRd9GW/624f0dc1dff9bdccab032f93c33e79de78481770e79e21d3b0469daf51f02797\" width=\"4992\">\n",
            "</img>, <img alt=\"man listening to an old radio\" class=\"grid-image h-full w-full object-cover lazy\" data-src=\"https://images.freeimages.com/variants/HghrFYWEXLN4wYLMkyfP7Q5U/f4a36f6589a0e50e702740b15352bc00e4bfaf6f58bd4db850e167794d05993d\" height=\"5018\" src=\"https://images.freeimages.com/variants/HghrFYWEXLN4wYLMkyfP7Q5U/624f0dc1dff9bdccab032f93c33e79de78481770e79e21d3b0469daf51f02797\" width=\"3346\">\n",
            "</img>, <img alt=\"man cleaning record\" class=\"grid-image h-full w-full object-cover lazy\" data-src=\"https://images.freeimages.com/variants/y4dgPpvNwRhkdAnNYyFa7TZB/f4a36f6589a0e50e702740b15352bc00e4bfaf6f58bd4db850e167794d05993d\" height=\"4992\" src=\"https://images.freeimages.com/variants/y4dgPpvNwRhkdAnNYyFa7TZB/624f0dc1dff9bdccab032f93c33e79de78481770e79e21d3b0469daf51f02797\" width=\"3328\">\n",
            "</img>, <img alt=\"Woman with tennis racquet, sitting by court\" class=\"grid-image h-full w-full object-cover lazy\" data-src=\"https://images.freeimages.com/variants/gR4h358dnQqXoxZ14XgMATKt/f4a36f6589a0e50e702740b15352bc00e4bfaf6f58bd4db850e167794d05993d\" height=\"3328\" src=\"https://images.freeimages.com/variants/gR4h358dnQqXoxZ14XgMATKt/624f0dc1dff9bdccab032f93c33e79de78481770e79e21d3b0469daf51f02797\" width=\"4992\">\n",
            "</img>, <img alt=\"Girl eating cereal\" class=\"grid-image h-full w-full object-cover lazy\" data-src=\"https://images.freeimages.com/variants/mgF4XW9gUKaosv9ArWeCyv2u/f4a36f6589a0e50e702740b15352bc00e4bfaf6f58bd4db850e167794d05993d\" height=\"4992\" src=\"https://images.freeimages.com/variants/mgF4XW9gUKaosv9ArWeCyv2u/624f0dc1dff9bdccab032f93c33e79de78481770e79e21d3b0469daf51f02797\" width=\"3328\">\n",
            "</img>, <img alt=\"Boy sitting on grass\" class=\"grid-image h-full w-full object-cover lazy\" data-src=\"https://images.freeimages.com/variants/yA5gEfnY9WjTLyZFBR4Krz9h/f4a36f6589a0e50e702740b15352bc00e4bfaf6f58bd4db850e167794d05993d\" height=\"3421\" src=\"https://images.freeimages.com/variants/yA5gEfnY9WjTLyZFBR4Krz9h/624f0dc1dff9bdccab032f93c33e79de78481770e79e21d3b0469daf51f02797\" width=\"4880\">\n",
            "</img>, <img alt=\"boy dressing up as king\" class=\"grid-image h-full w-full object-cover lazy\" data-src=\"https://images.freeimages.com/variants/GCsaQp6v38sbkkUiUpYsQ4PB/f4a36f6589a0e50e702740b15352bc00e4bfaf6f58bd4db850e167794d05993d\" height=\"3328\" src=\"https://images.freeimages.com/variants/GCsaQp6v38sbkkUiUpYsQ4PB/624f0dc1dff9bdccab032f93c33e79de78481770e79e21d3b0469daf51f02797\" width=\"4992\">\n",
            "</img>, <img alt=\"Smiling woman using laptop at outdoor cafe\" class=\"grid-image h-full w-full object-cover lazy\" data-src=\"https://images.freeimages.com/variants/3Vceegkgta5yB6B16hH15Yff/f4a36f6589a0e50e702740b15352bc00e4bfaf6f58bd4db850e167794d05993d\" height=\"3600\" src=\"https://images.freeimages.com/variants/3Vceegkgta5yB6B16hH15Yff/624f0dc1dff9bdccab032f93c33e79de78481770e79e21d3b0469daf51f02797\" width=\"5400\">\n",
            "</img>, <img alt=\"Smiling woman on cell phone\" class=\"grid-image h-full w-full object-cover lazy\" data-src=\"https://images.freeimages.com/variants/k9rqw2LnJFYJbF5nY6RVaZCi/f4a36f6589a0e50e702740b15352bc00e4bfaf6f58bd4db850e167794d05993d\" height=\"5400\" src=\"https://images.freeimages.com/variants/k9rqw2LnJFYJbF5nY6RVaZCi/624f0dc1dff9bdccab032f93c33e79de78481770e79e21d3b0469daf51f02797\" width=\"3600\">\n",
            "</img>, <img alt=\"Smiling woman using laptop at outdoor cafe\" class=\"grid-image h-full w-full object-cover lazy\" data-src=\"https://images.freeimages.com/variants/MrTEzp3GZXBgV5An6cRCzmAc/f4a36f6589a0e50e702740b15352bc00e4bfaf6f58bd4db850e167794d05993d\" height=\"3600\" src=\"https://images.freeimages.com/variants/MrTEzp3GZXBgV5An6cRCzmAc/624f0dc1dff9bdccab032f93c33e79de78481770e79e21d3b0469daf51f02797\" width=\"5400\">\n",
            "</img>, <img alt=\"\" class=\"grid-image w-full object-cover\" loading=\"lazy\" src=\"data:image/png;base64,iVBORw0KGgoAAAANSUhEUgAAAAEAAAABCAYAAAAfFcSJAAAAAXNSR0IArs4c6QAAAAtJREFUGFdjYAACAAAFAAGq1chRAAAAAElFTkSuQmCC\"/>, <img alt=\"Smiling man at outdoor cafe\" class=\"grid-image h-full w-full object-cover lazy\" data-src=\"https://images.freeimages.com/variants/8JUwoQEcNh2yMj5qMUw82M59/f4a36f6589a0e50e702740b15352bc00e4bfaf6f58bd4db850e167794d05993d\" height=\"5400\" src=\"https://images.freeimages.com/variants/8JUwoQEcNh2yMj5qMUw82M59/624f0dc1dff9bdccab032f93c33e79de78481770e79e21d3b0469daf51f02797\" width=\"3600\">\n",
            "</img>, <img alt=\"Happy couple relaxing outdoors on city bench\" class=\"grid-image h-full w-full object-cover lazy\" data-src=\"https://images.freeimages.com/variants/8DtZ4kyqrutiHW6xbZWUFnCb/f4a36f6589a0e50e702740b15352bc00e4bfaf6f58bd4db850e167794d05993d\" height=\"3600\" src=\"https://images.freeimages.com/variants/8DtZ4kyqrutiHW6xbZWUFnCb/624f0dc1dff9bdccab032f93c33e79de78481770e79e21d3b0469daf51f02797\" width=\"5400\">\n",
            "</img>, <img alt=\"Smiling teenage girl with backpack\" class=\"grid-image h-full w-full object-cover lazy\" data-src=\"https://images.freeimages.com/variants/GDyreww3i2vV3DAhatQRYGmf/f4a36f6589a0e50e702740b15352bc00e4bfaf6f58bd4db850e167794d05993d\" height=\"5400\" src=\"https://images.freeimages.com/variants/GDyreww3i2vV3DAhatQRYGmf/624f0dc1dff9bdccab032f93c33e79de78481770e79e21d3b0469daf51f02797\" width=\"3600\">\n",
            "</img>, <img alt=\"Smiling woman with shopping bags\" class=\"grid-image h-full w-full object-cover lazy\" data-src=\"https://images.freeimages.com/variants/LQc7X49xLSHkpXCqoDMacvMN/f4a36f6589a0e50e702740b15352bc00e4bfaf6f58bd4db850e167794d05993d\" height=\"5400\" src=\"https://images.freeimages.com/variants/LQc7X49xLSHkpXCqoDMacvMN/624f0dc1dff9bdccab032f93c33e79de78481770e79e21d3b0469daf51f02797\" width=\"3600\"/>, <img alt=\"Happy couple relaxing outdoors on city bench\" class=\"grid-image h-full w-full object-cover lazy\" data-src=\"https://images.freeimages.com/variants/8yckzyUVM3eTuTprKxvekEKJ/f4a36f6589a0e50e702740b15352bc00e4bfaf6f58bd4db850e167794d05993d\" height=\"5400\" src=\"https://images.freeimages.com/variants/8yckzyUVM3eTuTprKxvekEKJ/624f0dc1dff9bdccab032f93c33e79de78481770e79e21d3b0469daf51f02797\" width=\"3600\"/>, <img alt=\"Smiling teenage girl in a bikini\" class=\"grid-image h-full w-full object-cover lazy\" data-src=\"https://images.freeimages.com/variants/NYLd1fEC4wRzeFFbt5pRxaVC/f4a36f6589a0e50e702740b15352bc00e4bfaf6f58bd4db850e167794d05993d\" height=\"5400\" src=\"https://images.freeimages.com/variants/NYLd1fEC4wRzeFFbt5pRxaVC/624f0dc1dff9bdccab032f93c33e79de78481770e79e21d3b0469daf51f02797\" width=\"3600\"/>, <img alt=\"Smiling businessman on cell phone\" class=\"grid-image h-full w-full object-cover lazy\" data-src=\"https://images.freeimages.com/variants/s8P8hNE8SoXxyQ5ndyX9Vthz/f4a36f6589a0e50e702740b15352bc00e4bfaf6f58bd4db850e167794d05993d\" height=\"5400\" src=\"https://images.freeimages.com/variants/s8P8hNE8SoXxyQ5ndyX9Vthz/624f0dc1dff9bdccab032f93c33e79de78481770e79e21d3b0469daf51f02797\" width=\"3600\"/>, <img alt=\"Woman covering eyes of businessman with laptop\" class=\"grid-image h-full w-full object-cover lazy\" data-src=\"https://images.freeimages.com/variants/8obWnzxsAXZ34AcVZbkSHYCu/f4a36f6589a0e50e702740b15352bc00e4bfaf6f58bd4db850e167794d05993d\" height=\"5400\" src=\"https://images.freeimages.com/variants/8obWnzxsAXZ34AcVZbkSHYCu/624f0dc1dff9bdccab032f93c33e79de78481770e79e21d3b0469daf51f02797\" width=\"3600\"/>, <img alt=\"Smiling businessman with laptop outdoors\" class=\"grid-image h-full w-full object-cover lazy\" data-src=\"https://images.freeimages.com/variants/TKwPGjNQUrGAchokY15XDELi/f4a36f6589a0e50e702740b15352bc00e4bfaf6f58bd4db850e167794d05993d\" height=\"3600\" src=\"https://images.freeimages.com/variants/TKwPGjNQUrGAchokY15XDELi/624f0dc1dff9bdccab032f93c33e79de78481770e79e21d3b0469daf51f02797\" width=\"5400\"/>, <img alt=\"\" class=\"grid-image w-full object-cover\" loading=\"lazy\" src=\"data:image/png;base64,iVBORw0KGgoAAAANSUhEUgAAAAEAAAABCAYAAAAfFcSJAAAAAXNSR0IArs4c6QAAAAtJREFUGFdjYAACAAAFAAGq1chRAAAAAElFTkSuQmCC\"/>, <img alt=\"Smiling teenage girl using cell phone\" class=\"grid-image h-full w-full object-cover lazy\" data-src=\"https://images.freeimages.com/variants/RBgmiu4DXxEB8EWPrRafkrL3/f4a36f6589a0e50e702740b15352bc00e4bfaf6f58bd4db850e167794d05993d\" height=\"3600\" src=\"https://images.freeimages.com/variants/RBgmiu4DXxEB8EWPrRafkrL3/624f0dc1dff9bdccab032f93c33e79de78481770e79e21d3b0469daf51f02797\" width=\"5400\">\n",
            "</img>, <img alt=\"Smiling businessman using laptop outdoors\" class=\"grid-image h-full w-full object-cover lazy\" data-src=\"https://images.freeimages.com/variants/DaY5HCnU9TahKxiUEuqgTcTb/f4a36f6589a0e50e702740b15352bc00e4bfaf6f58bd4db850e167794d05993d\" height=\"5400\" src=\"https://images.freeimages.com/variants/DaY5HCnU9TahKxiUEuqgTcTb/624f0dc1dff9bdccab032f93c33e79de78481770e79e21d3b0469daf51f02797\" width=\"3600\">\n",
            "</img>]\n",
            "data:image/png;base64,iVBORw0KGgoAAAANSUhEUgAAAAEAAAABCAYAAAAfFcSJAAAAAXNSR0IArs4c6QAAAAtJREFUGFdjYAACAAAFAAGq1chRAAAAAElFTkSuQmCC\n"
          ]
        },
        {
          "output_type": "error",
          "ename": "InvalidSchema",
          "evalue": "ignored",
          "traceback": [
            "\u001b[0;31m---------------------------------------------------------------------------\u001b[0m",
            "\u001b[0;31mInvalidSchema\u001b[0m                             Traceback (most recent call last)",
            "\u001b[0;32m<ipython-input-54-4e378b7c7329>\u001b[0m in \u001b[0;36m<cell line: 3>\u001b[0;34m()\u001b[0m\n\u001b[1;32m      3\u001b[0m \u001b[0;32mfor\u001b[0m \u001b[0mface\u001b[0m  \u001b[0;32min\u001b[0m \u001b[0mfaces\u001b[0m\u001b[0;34m:\u001b[0m\u001b[0;34m\u001b[0m\u001b[0;34m\u001b[0m\u001b[0m\n\u001b[1;32m      4\u001b[0m   \u001b[0;32mfor\u001b[0m \u001b[0mpage\u001b[0m \u001b[0;32min\u001b[0m \u001b[0mrange\u001b[0m\u001b[0;34m(\u001b[0m\u001b[0;36m1\u001b[0m\u001b[0;34m,\u001b[0m\u001b[0mpages\u001b[0m \u001b[0;34m+\u001b[0m\u001b[0;36m1\u001b[0m\u001b[0;34m)\u001b[0m\u001b[0;34m:\u001b[0m\u001b[0;34m\u001b[0m\u001b[0;34m\u001b[0m\u001b[0m\n\u001b[0;32m----> 5\u001b[0;31m     \u001b[0mget_photos\u001b[0m\u001b[0;34m(\u001b[0m\u001b[0mface\u001b[0m\u001b[0;34m,\u001b[0m \u001b[0mpage\u001b[0m\u001b[0;34m,\u001b[0m \u001b[0mtrain_path\u001b[0m\u001b[0;34m)\u001b[0m\u001b[0;34m\u001b[0m\u001b[0;34m\u001b[0m\u001b[0m\n\u001b[0m",
            "\u001b[0;32m<ipython-input-52-e50b8e32a948>\u001b[0m in \u001b[0;36mget_photos\u001b[0;34m(face, page, path)\u001b[0m\n\u001b[1;32m      6\u001b[0m     \u001b[0;32mif\u001b[0m \u001b[0mlen\u001b[0m\u001b[0;34m(\u001b[0m\u001b[0mimage\u001b[0m\u001b[0;34m)\u001b[0m \u001b[0;34m>\u001b[0m \u001b[0;36m5\u001b[0m\u001b[0;34m:\u001b[0m\u001b[0;34m\u001b[0m\u001b[0;34m\u001b[0m\u001b[0m\n\u001b[1;32m      7\u001b[0m       \u001b[0mfile_name\u001b[0m \u001b[0;34m=\u001b[0m \u001b[0mimage\u001b[0m\u001b[0;34m.\u001b[0m\u001b[0msplit\u001b[0m\u001b[0;34m(\u001b[0m\u001b[0;34m'/'\u001b[0m\u001b[0;34m)\u001b[0m\u001b[0;34m[\u001b[0m\u001b[0;34m-\u001b[0m\u001b[0;36m1\u001b[0m\u001b[0;34m]\u001b[0m\u001b[0;34m\u001b[0m\u001b[0;34m\u001b[0m\u001b[0m\n\u001b[0;32m----> 8\u001b[0;31m       \u001b[0mget_image\u001b[0m\u001b[0;34m(\u001b[0m\u001b[0mimage\u001b[0m\u001b[0;34m,\u001b[0m \u001b[0mtrain_path\u001b[0m\u001b[0;34m,\u001b[0m \u001b[0mfile_name\u001b[0m\u001b[0;34m,\u001b[0m \u001b[0mface\u001b[0m\u001b[0;34m)\u001b[0m\u001b[0;34m\u001b[0m\u001b[0;34m\u001b[0m\u001b[0m\n\u001b[0m",
            "\u001b[0;32m<ipython-input-50-1289ba90f5b6>\u001b[0m in \u001b[0;36mget_image\u001b[0;34m(photo_url, path, file_name, style)\u001b[0m\n\u001b[1;32m      1\u001b[0m \u001b[0;32mdef\u001b[0m \u001b[0mget_image\u001b[0m\u001b[0;34m(\u001b[0m\u001b[0mphoto_url\u001b[0m\u001b[0;34m,\u001b[0m \u001b[0mpath\u001b[0m\u001b[0;34m,\u001b[0m \u001b[0mfile_name\u001b[0m\u001b[0;34m,\u001b[0m \u001b[0mstyle\u001b[0m\u001b[0;34m)\u001b[0m\u001b[0;34m:\u001b[0m\u001b[0;34m\u001b[0m\u001b[0;34m\u001b[0m\u001b[0m\n\u001b[0;32m----> 2\u001b[0;31m   \u001b[0mimage_response\u001b[0m \u001b[0;34m=\u001b[0m \u001b[0mrequests\u001b[0m\u001b[0;34m.\u001b[0m\u001b[0mget\u001b[0m\u001b[0;34m(\u001b[0m\u001b[0mphoto_url\u001b[0m\u001b[0;34m)\u001b[0m\u001b[0;34m\u001b[0m\u001b[0;34m\u001b[0m\u001b[0m\n\u001b[0m\u001b[1;32m      3\u001b[0m   \u001b[0mimage_content\u001b[0m \u001b[0;34m=\u001b[0m \u001b[0mimage_response\u001b[0m\u001b[0;34m.\u001b[0m\u001b[0mcontent\u001b[0m\u001b[0;34m\u001b[0m\u001b[0;34m\u001b[0m\u001b[0m\n\u001b[1;32m      4\u001b[0m   \u001b[0mimg\u001b[0m \u001b[0;34m=\u001b[0m \u001b[0mImage\u001b[0m\u001b[0;34m.\u001b[0m\u001b[0mopen\u001b[0m\u001b[0;34m(\u001b[0m\u001b[0mBytesIO\u001b[0m\u001b[0;34m(\u001b[0m\u001b[0mimage_content\u001b[0m\u001b[0;34m)\u001b[0m\u001b[0;34m)\u001b[0m\u001b[0;34m\u001b[0m\u001b[0;34m\u001b[0m\u001b[0m\n\u001b[1;32m      5\u001b[0m   \u001b[0;32mif\u001b[0m \u001b[0mimg\u001b[0m\u001b[0;34m.\u001b[0m\u001b[0mmode\u001b[0m \u001b[0;34m==\u001b[0m \u001b[0;34m'RGB'\u001b[0m\u001b[0;34m:\u001b[0m\u001b[0;34m\u001b[0m\u001b[0;34m\u001b[0m\u001b[0m\n",
            "\u001b[0;32m/usr/local/lib/python3.10/dist-packages/requests/api.py\u001b[0m in \u001b[0;36mget\u001b[0;34m(url, params, **kwargs)\u001b[0m\n\u001b[1;32m     73\u001b[0m     \"\"\"\n\u001b[1;32m     74\u001b[0m \u001b[0;34m\u001b[0m\u001b[0m\n\u001b[0;32m---> 75\u001b[0;31m     \u001b[0;32mreturn\u001b[0m \u001b[0mrequest\u001b[0m\u001b[0;34m(\u001b[0m\u001b[0;34m'get'\u001b[0m\u001b[0;34m,\u001b[0m \u001b[0murl\u001b[0m\u001b[0;34m,\u001b[0m \u001b[0mparams\u001b[0m\u001b[0;34m=\u001b[0m\u001b[0mparams\u001b[0m\u001b[0;34m,\u001b[0m \u001b[0;34m**\u001b[0m\u001b[0mkwargs\u001b[0m\u001b[0;34m)\u001b[0m\u001b[0;34m\u001b[0m\u001b[0;34m\u001b[0m\u001b[0m\n\u001b[0m\u001b[1;32m     76\u001b[0m \u001b[0;34m\u001b[0m\u001b[0m\n\u001b[1;32m     77\u001b[0m \u001b[0;34m\u001b[0m\u001b[0m\n",
            "\u001b[0;32m/usr/local/lib/python3.10/dist-packages/requests/api.py\u001b[0m in \u001b[0;36mrequest\u001b[0;34m(method, url, **kwargs)\u001b[0m\n\u001b[1;32m     59\u001b[0m     \u001b[0;31m# cases, and look like a memory leak in others.\u001b[0m\u001b[0;34m\u001b[0m\u001b[0;34m\u001b[0m\u001b[0m\n\u001b[1;32m     60\u001b[0m     \u001b[0;32mwith\u001b[0m \u001b[0msessions\u001b[0m\u001b[0;34m.\u001b[0m\u001b[0mSession\u001b[0m\u001b[0;34m(\u001b[0m\u001b[0;34m)\u001b[0m \u001b[0;32mas\u001b[0m \u001b[0msession\u001b[0m\u001b[0;34m:\u001b[0m\u001b[0;34m\u001b[0m\u001b[0;34m\u001b[0m\u001b[0m\n\u001b[0;32m---> 61\u001b[0;31m         \u001b[0;32mreturn\u001b[0m \u001b[0msession\u001b[0m\u001b[0;34m.\u001b[0m\u001b[0mrequest\u001b[0m\u001b[0;34m(\u001b[0m\u001b[0mmethod\u001b[0m\u001b[0;34m=\u001b[0m\u001b[0mmethod\u001b[0m\u001b[0;34m,\u001b[0m \u001b[0murl\u001b[0m\u001b[0;34m=\u001b[0m\u001b[0murl\u001b[0m\u001b[0;34m,\u001b[0m \u001b[0;34m**\u001b[0m\u001b[0mkwargs\u001b[0m\u001b[0;34m)\u001b[0m\u001b[0;34m\u001b[0m\u001b[0;34m\u001b[0m\u001b[0m\n\u001b[0m\u001b[1;32m     62\u001b[0m \u001b[0;34m\u001b[0m\u001b[0m\n\u001b[1;32m     63\u001b[0m \u001b[0;34m\u001b[0m\u001b[0m\n",
            "\u001b[0;32m/usr/local/lib/python3.10/dist-packages/requests/sessions.py\u001b[0m in \u001b[0;36mrequest\u001b[0;34m(self, method, url, params, data, headers, cookies, files, auth, timeout, allow_redirects, proxies, hooks, stream, verify, cert, json)\u001b[0m\n\u001b[1;32m    527\u001b[0m         }\n\u001b[1;32m    528\u001b[0m         \u001b[0msend_kwargs\u001b[0m\u001b[0;34m.\u001b[0m\u001b[0mupdate\u001b[0m\u001b[0;34m(\u001b[0m\u001b[0msettings\u001b[0m\u001b[0;34m)\u001b[0m\u001b[0;34m\u001b[0m\u001b[0;34m\u001b[0m\u001b[0m\n\u001b[0;32m--> 529\u001b[0;31m         \u001b[0mresp\u001b[0m \u001b[0;34m=\u001b[0m \u001b[0mself\u001b[0m\u001b[0;34m.\u001b[0m\u001b[0msend\u001b[0m\u001b[0;34m(\u001b[0m\u001b[0mprep\u001b[0m\u001b[0;34m,\u001b[0m \u001b[0;34m**\u001b[0m\u001b[0msend_kwargs\u001b[0m\u001b[0;34m)\u001b[0m\u001b[0;34m\u001b[0m\u001b[0;34m\u001b[0m\u001b[0m\n\u001b[0m\u001b[1;32m    530\u001b[0m \u001b[0;34m\u001b[0m\u001b[0m\n\u001b[1;32m    531\u001b[0m         \u001b[0;32mreturn\u001b[0m \u001b[0mresp\u001b[0m\u001b[0;34m\u001b[0m\u001b[0;34m\u001b[0m\u001b[0m\n",
            "\u001b[0;32m/usr/local/lib/python3.10/dist-packages/requests/sessions.py\u001b[0m in \u001b[0;36msend\u001b[0;34m(self, request, **kwargs)\u001b[0m\n\u001b[1;32m    637\u001b[0m \u001b[0;34m\u001b[0m\u001b[0m\n\u001b[1;32m    638\u001b[0m         \u001b[0;31m# Get the appropriate adapter to use\u001b[0m\u001b[0;34m\u001b[0m\u001b[0;34m\u001b[0m\u001b[0m\n\u001b[0;32m--> 639\u001b[0;31m         \u001b[0madapter\u001b[0m \u001b[0;34m=\u001b[0m \u001b[0mself\u001b[0m\u001b[0;34m.\u001b[0m\u001b[0mget_adapter\u001b[0m\u001b[0;34m(\u001b[0m\u001b[0murl\u001b[0m\u001b[0;34m=\u001b[0m\u001b[0mrequest\u001b[0m\u001b[0;34m.\u001b[0m\u001b[0murl\u001b[0m\u001b[0;34m)\u001b[0m\u001b[0;34m\u001b[0m\u001b[0;34m\u001b[0m\u001b[0m\n\u001b[0m\u001b[1;32m    640\u001b[0m \u001b[0;34m\u001b[0m\u001b[0m\n\u001b[1;32m    641\u001b[0m         \u001b[0;31m# Start time (approximately) of the request\u001b[0m\u001b[0;34m\u001b[0m\u001b[0;34m\u001b[0m\u001b[0m\n",
            "\u001b[0;32m/usr/local/lib/python3.10/dist-packages/requests/sessions.py\u001b[0m in \u001b[0;36mget_adapter\u001b[0;34m(self, url)\u001b[0m\n\u001b[1;32m    730\u001b[0m \u001b[0;34m\u001b[0m\u001b[0m\n\u001b[1;32m    731\u001b[0m         \u001b[0;31m# Nothing matches :-/\u001b[0m\u001b[0;34m\u001b[0m\u001b[0;34m\u001b[0m\u001b[0m\n\u001b[0;32m--> 732\u001b[0;31m         \u001b[0;32mraise\u001b[0m \u001b[0mInvalidSchema\u001b[0m\u001b[0;34m(\u001b[0m\u001b[0;34m\"No connection adapters were found for {!r}\"\u001b[0m\u001b[0;34m.\u001b[0m\u001b[0mformat\u001b[0m\u001b[0;34m(\u001b[0m\u001b[0murl\u001b[0m\u001b[0;34m)\u001b[0m\u001b[0;34m)\u001b[0m\u001b[0;34m\u001b[0m\u001b[0;34m\u001b[0m\u001b[0m\n\u001b[0m\u001b[1;32m    733\u001b[0m \u001b[0;34m\u001b[0m\u001b[0m\n\u001b[1;32m    734\u001b[0m     \u001b[0;32mdef\u001b[0m \u001b[0mclose\u001b[0m\u001b[0;34m(\u001b[0m\u001b[0mself\u001b[0m\u001b[0;34m)\u001b[0m\u001b[0;34m:\u001b[0m\u001b[0;34m\u001b[0m\u001b[0;34m\u001b[0m\u001b[0m\n",
            "\u001b[0;31mInvalidSchema\u001b[0m: No connection adapters were found for 'data:image/png;base64,iVBORw0KGgoAAAANSUhEUgAAAAEAAAABCAYAAAAfFcSJAAAAAXNSR0IArs4c6QAAAAtJREFUGFdjYAACAAAFAAGq1chRAAAAAElFTkSuQmCC'"
          ]
        }
      ]
    }
  ]
}