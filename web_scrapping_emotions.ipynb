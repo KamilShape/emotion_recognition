{
  "cells": [
    {
      "cell_type": "markdown",
      "metadata": {
        "id": "view-in-github",
        "colab_type": "text"
      },
      "source": [
        "<a href=\"https://colab.research.google.com/github/KamilShape/emotion_recognition/blob/main/web_scrapping_emotions.ipynb\" target=\"_parent\"><img src=\"https://colab.research.google.com/assets/colab-badge.svg\" alt=\"Open In Colab\"/></a>"
      ]
    },
    {
      "cell_type": "code",
      "execution_count": null,
      "metadata": {
        "id": "k__qgcvDS7i8"
      },
      "outputs": [],
      "source": [
        "import requests\n",
        "from bs4 import BeautifulSoup\n",
        "from PIL import Image\n",
        "from io import BytesIO\n",
        "import random\n",
        "import os\n",
        "import numpy as np"
      ]
    },
    {
      "cell_type": "code",
      "execution_count": null,
      "metadata": {
        "colab": {
          "base_uri": "https://localhost:8080/"
        },
        "id": "VuREmh6PStW3",
        "outputId": "d0c945fa-ef55-4552-c677-692359d9daa4"
      },
      "outputs": [
        {
          "output_type": "stream",
          "name": "stdout",
          "text": [
            "Mounted at /content/drive\n"
          ]
        }
      ],
      "source": [
        "from google.colab import drive\n",
        "drive.mount('/content/drive', force_remount=True)"
      ]
    },
    {
      "cell_type": "code",
      "execution_count": null,
      "metadata": {
        "id": "A-cLZeMxS2vx"
      },
      "outputs": [],
      "source": [
        "def parse_url(content):\n",
        "  soup = BeautifulSoup(content, 'html.parser')\n",
        "  imgs = soup.find_all('img', {'class': 'grid-image'})\n",
        "  # print(imgs)\n",
        "  print([img['src'] for img in imgs])\n",
        "  return [img['src'] for img in imgs]"
      ]
    },
    {
      "cell_type": "code",
      "execution_count": null,
      "metadata": {
        "id": "rohwGdScTBRz"
      },
      "outputs": [],
      "source": [
        "def get_page(face, page):\n",
        "  url = f'https://www.freeimages.com/search/{face}/{page}'\n",
        "  print(url)\n",
        "  try:\n",
        "    response = requests.get(url)\n",
        "    content = response.content\n",
        "    print(content)\n",
        "    return content\n",
        "  except:\n",
        "    print('Error! Wrong url.')"
      ]
    },
    {
      "cell_type": "code",
      "execution_count": null,
      "metadata": {
        "id": "YTDpgr54TJ-u"
      },
      "outputs": [],
      "source": [
        "def get_image(photo_url, path, file_name, face):\n",
        "  image_response = requests.get(photo_url)\n",
        "  image_content = image_response.content\n",
        "  img = Image.open(BytesIO(image_content))\n",
        "  if img.mode == 'RGB':\n",
        "    os.makedirs(f'{path}/{face}', exist_ok=True)\n",
        "    img.save(f'{path}/{face}/{file_name}', 'png')"
      ]
    },
    {
      "cell_type": "code",
      "execution_count": null,
      "metadata": {
        "id": "wWqmQe_pTNKJ"
      },
      "outputs": [],
      "source": [
        "train_path = 'drive/MyDrive/faces/data/train'"
      ]
    },
    {
      "cell_type": "code",
      "execution_count": null,
      "metadata": {
        "id": "8bZHNrBUTfW6"
      },
      "outputs": [],
      "source": [
        "def get_photos(face, page, path):\n",
        "  content = get_page(face, page)\n",
        "  # print(content)\n",
        "  images = parse_url(content)\n",
        "  for image in images:\n",
        "    print(image)\n",
        "    http = image.find('https://')\n",
        "    print(http)\n",
        "    if http != -1:\n",
        "      file_name = image.split('/')[-1]\n",
        "      get_image(image, train_path, file_name, face)"
      ]
    },
    {
      "cell_type": "code",
      "execution_count": null,
      "metadata": {
        "id": "oGRn7qfsTlkm"
      },
      "outputs": [],
      "source": [
        "faces = ['smiling-person']"
      ]
    },
    {
      "cell_type": "code",
      "execution_count": null,
      "metadata": {
        "id": "94JuvDFyTjNG"
      },
      "outputs": [],
      "source": [
        "# DOWNLOADING ALL PHOTOS\n",
        "pages = 10\n",
        "for face  in faces:\n",
        "  for page in range(1,pages +1):\n",
        "    get_photos(face, page, train_path)"
      ]
    },
    {
      "cell_type": "code",
      "source": [
        "!pip install key"
      ],
      "metadata": {
        "colab": {
          "base_uri": "https://localhost:8080/"
        },
        "id": "Hl4hU-iTPgAz",
        "outputId": "9c9dbfbf-0f0c-4877-a38c-6687954a324c"
      },
      "execution_count": null,
      "outputs": [
        {
          "output_type": "stream",
          "name": "stdout",
          "text": [
            "Collecting key\n",
            "  Downloading key-0.4.tar.gz (1.9 kB)\n",
            "  Preparing metadata (setup.py) ... \u001b[?25l\u001b[?25hdone\n",
            "Building wheels for collected packages: key\n",
            "  Building wheel for key (setup.py) ... \u001b[?25l\u001b[?25hdone\n",
            "  Created wheel for key: filename=key-0.4-py3-none-any.whl size=2389 sha256=b4cbba1032ab980c916aaacd23f7d34bd96df292089c387c253ccd66f9b4a683\n",
            "  Stored in directory: /root/.cache/pip/wheels/7d/f3/25/8bd2363296311fbe941a607967ec804c76881fc884d0c7bf85\n",
            "Successfully built key\n",
            "Installing collected packages: key\n",
            "Successfully installed key-0.4\n"
          ]
        }
      ]
    }
  ],
  "metadata": {
    "colab": {
      "provenance": [],
      "authorship_tag": "ABX9TyOt72tRp0kGRAOnYN/0vpDO",
      "include_colab_link": true
    },
    "kernelspec": {
      "display_name": "Python 3",
      "name": "python3"
    },
    "language_info": {
      "name": "python"
    }
  },
  "nbformat": 4,
  "nbformat_minor": 0
}