{
  "nbformat": 4,
  "nbformat_minor": 0,
  "metadata": {
    "colab": {
      "provenance": [],
      "authorship_tag": "ABX9TyO0Fn936shrIVUEfEU9IiNz",
      "include_colab_link": true
    },
    "kernelspec": {
      "name": "python3",
      "display_name": "Python 3"
    },
    "language_info": {
      "name": "python"
    }
  },
  "cells": [
    {
      "cell_type": "markdown",
      "metadata": {
        "id": "view-in-github",
        "colab_type": "text"
      },
      "source": [
        "<a href=\"https://colab.research.google.com/github/KamilShape/emotion_recognition/blob/main/emotion_detection.ipynb\" target=\"_parent\"><img src=\"https://colab.research.google.com/assets/colab-badge.svg\" alt=\"Open In Colab\"/></a>"
      ]
    },
    {
      "cell_type": "markdown",
      "source": [
        "# **1. Introduction**"
      ],
      "metadata": {
        "id": "1lh8p-w71ZSu"
      }
    },
    {
      "cell_type": "code",
      "source": [
        "#Libraries\n",
        "import os\n",
        "import cv2\n",
        "from google.colab.patches import cv2_imshow\n",
        "#----------------visualisation-------------------\n",
        "import pandas as pd\n",
        "import matplotlib.pyplot as plt\n",
        "import seaborn as sns\n",
        "import numpy as np"
      ],
      "metadata": {
        "id": "K7-cZ7ON2lRQ"
      },
      "execution_count": 1,
      "outputs": []
    },
    {
      "cell_type": "code",
      "source": [
        "data_path = 'drive/MyDrive/faces/data'"
      ],
      "metadata": {
        "id": "XaY9sSsy2Ifq"
      },
      "execution_count": 2,
      "outputs": []
    },
    {
      "cell_type": "code",
      "source": [
        "people = ['smiling-person', 'anger-person', 'disgust-person', 'fear-person', 'surprise-person' ]"
      ],
      "metadata": {
        "id": "r4QaQYeO1oFP"
      },
      "execution_count": 3,
      "outputs": []
    },
    {
      "cell_type": "code",
      "source": [
        "from google.colab import drive\n",
        "drive.mount('/content/drive', force_remount=True)"
      ],
      "metadata": {
        "colab": {
          "base_uri": "https://localhost:8080/"
        },
        "id": "mo-0Ulan2uws",
        "outputId": "a54eb54f-ae73-4469-e920-02ddd0a54fcb"
      },
      "execution_count": 4,
      "outputs": [
        {
          "output_type": "stream",
          "name": "stdout",
          "text": [
            "Mounted at /content/drive\n"
          ]
        }
      ]
    },
    {
      "cell_type": "code",
      "source": [
        "photos_number = []\n",
        "for person in people:\n",
        "  photos_number.append(len(os.listdir(f'{data_path}/{person}')))"
      ],
      "metadata": {
        "id": "B5e5ufE01ylJ"
      },
      "execution_count": 5,
      "outputs": []
    },
    {
      "cell_type": "code",
      "source": [
        "photos_number"
      ],
      "metadata": {
        "colab": {
          "base_uri": "https://localhost:8080/"
        },
        "id": "BJMRnwC-3q6J",
        "outputId": "111febbb-b427-4044-c809-381d5726358c"
      },
      "execution_count": 6,
      "outputs": [
        {
          "output_type": "execute_result",
          "data": {
            "text/plain": [
              "[1200, 1169, 1190, 1173, 1198]"
            ]
          },
          "metadata": {},
          "execution_count": 6
        }
      ]
    },
    {
      "cell_type": "markdown",
      "source": [
        "### 1.1 Data visualisation"
      ],
      "metadata": {
        "id": "z2roLj9z3BmF"
      }
    },
    {
      "cell_type": "code",
      "source": [
        "fig, ax = plt.subplots(figsize = (8,6))\n",
        "ax.bar(people, photos_number, color='wheat', width=0.6)\n",
        "ax.set_title('PHOTOS')\n",
        "ax.set_ylabel('Amount')\n",
        "\n",
        "for i in range(0, len(people)):\n",
        "  ax.text(people[i], photos_number[i] - 50, horizontalalignment='center', s=photos_number[i] )"
      ],
      "metadata": {
        "colab": {
          "base_uri": "https://localhost:8080/",
          "height": 545
        },
        "id": "7QC5nt9W3WQF",
        "outputId": "e5e47a56-e882-4999-b1ca-84a461eafa7d"
      },
      "execution_count": 7,
      "outputs": [
        {
          "output_type": "display_data",
          "data": {
            "text/plain": [
              "<Figure size 800x600 with 1 Axes>"
            ],
            "image/png": "[encoded data removed]"
          },
          "metadata": {}
        }
      ]
    },
    {
      "cell_type": "markdown",
      "source": [
        "*Dataset is quite balanced.*"
      ],
      "metadata": {
        "id": "bGxD1uv16dZ9"
      }
    },
    {
      "cell_type": "markdown",
      "source": [
        "# **2. Face detection**"
      ],
      "metadata": {
        "id": "WeMdih2S6xKL"
      }
    },
    {
      "cell_type": "code",
      "source": [
        "face_classifier = cv2.CascadeClassifier(cv2.data.haarcascades + \"haarcascade_frontalface_default.xml\")\n",
        "def face_recognition(photo, array):\n",
        "  image = cv2.imread(photo)\n",
        "  gray_image = cv2.cvtColor(image, cv2.COLOR_BGR2GRAY)\n",
        "  face = face_classifier.detectMultiScale(gray_image, 1.3, 4)\n",
        "  if len(face) > 0:\n",
        "   for i, (x, y, w, h) in enumerate(face):\n",
        "      cv2.rectangle(image, (x, y), (x + w, y + h), (0, 255, 255), 2)\n",
        "      face = image[y:y + h, x:x + w]\n",
        "\n",
        "      # array.append(face)\n",
        "      # cv2_imshow(face)"
      ],
      "metadata": {
        "id": "BUx9eC-UQPNm"
      },
      "execution_count": 11,
      "outputs": []
    },
    {
      "cell_type": "code",
      "source": [
        "smiling_faces = []\n",
        "anger_faces = []\n",
        "disgust_faces = []\n",
        "fear_faces = []\n",
        "surprise_faces = []\n",
        "def faces_array(array, photos):\n",
        "  print(f'{data_path}/{photos}')\n",
        "  files_folder = os.listdir(f'{data_path}/{photos}')\n",
        "  print(files_folder)\n",
        "  for i in range(0, len(files_folder)):\n",
        "    img_path = f'{data_path}/{photos}/{files_folder[i]}'\n",
        "    print(img_path)\n",
        "    image = cv2.imread(img_path)\n",
        "    # cv2_imshow(image)\n",
        "  # print(len(files_folder))\n",
        "  # face_recognition\n",
        "  # print(files_folder)"
      ],
      "metadata": {
        "id": "AfYm90UTVP8r"
      },
      "execution_count": 14,
      "outputs": []
    },
    {
      "cell_type": "code",
      "source": [
        "faces_array(smiling_faces, \"smiling-person\")"
      ],
      "metadata": {
        "id": "NDJKx5CBbfwV"
      },
      "execution_count": null,
      "outputs": []
    },
    {
      "cell_type": "code",
      "source": [
        "# anger_person_folder = os.listdir(f'{data_path}/anger-person')\n",
        "# img_path = f'{data_path}/anger-person/{anger_person_folder[1]}'\n",
        "# img = cv2.imread(img_path)\n",
        "# print(img)\n",
        "# img.shape\n",
        "# cv2_imshow(img)"
      ],
      "metadata": {
        "id": "CPEHXwd8VlJf"
      },
      "execution_count": null,
      "outputs": []
    }
  ]
}