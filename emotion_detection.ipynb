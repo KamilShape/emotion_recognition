{
  "nbformat": 4,
  "nbformat_minor": 0,
  "metadata": {
    "colab": {
      "provenance": [],
      "gpuType": "T4",
      "authorship_tag": "ABX9TyM/XC9nGcfA5BrCwfT91ZnT",
      "include_colab_link": true
    },
    "kernelspec": {
      "name": "python3",
      "display_name": "Python 3"
    },
    "language_info": {
      "name": "python"
    },
    "accelerator": "GPU"
  },
  "cells": [
    {
      "cell_type": "markdown",
      "metadata": {
        "id": "view-in-github",
        "colab_type": "text"
      },
      "source": [
        "<a href=\"https://colab.research.google.com/github/KamilShape/emotion_recognition/blob/main/emotion_detection.ipynb\" target=\"_parent\"><img src=\"https://colab.research.google.com/assets/colab-badge.svg\" alt=\"Open In Colab\"/></a>"
      ]
    },
    {
      "cell_type": "markdown",
      "source": [
        "# **1. Introduction**"
      ],
      "metadata": {
        "id": "1lh8p-w71ZSu"
      }
    },
    {
      "cell_type": "code",
      "source": [
        "#Libraries\n",
        "import os\n",
        "import cv2\n",
        "from google.colab.patches import cv2_imshow\n",
        "import shutil\n",
        "#----------------visualisation---------------\n",
        "import pandas as pd\n",
        "import matplotlib.pyplot as plt\n",
        "import seaborn as sns\n",
        "import numpy as np\n",
        "#----------------keras-----------------------\n",
        "import tensorflow as tf\n",
        "from tensorflow.keras.models import Sequential\n",
        "from tensorflow.keras import layers\n",
        "from tensorflow import keras\n",
        "#---------------PIL--------------------------\n",
        "from PIL import Image"
      ],
      "metadata": {
        "id": "K7-cZ7ON2lRQ"
      },
      "execution_count": null,
      "outputs": []
    },
    {
      "cell_type": "code",
      "source": [
        "data_path = 'drive/MyDrive/faces/data'"
      ],
      "metadata": {
        "id": "XaY9sSsy2Ifq"
      },
      "execution_count": null,
      "outputs": []
    },
    {
      "cell_type": "code",
      "source": [
        "from google.colab import drive\n",
        "drive.mount('/content/drive', force_remount=True)"
      ],
      "metadata": {
        "colab": {
          "base_uri": "https://localhost:8080/"
        },
        "id": "mo-0Ulan2uws",
        "outputId": "e737dc86-ee22-43d6-8d1f-56347dd6f192"
      },
      "execution_count": null,
      "outputs": [
        {
          "output_type": "stream",
          "name": "stdout",
          "text": [
            "Mounted at /content/drive\n"
          ]
        }
      ]
    },
    {
      "cell_type": "markdown",
      "source": [
        "*Dataset is quite balanced.*"
      ],
      "metadata": {
        "id": "bGxD1uv16dZ9"
      }
    },
    {
      "cell_type": "markdown",
      "source": [
        "# **2. Train and test set**"
      ],
      "metadata": {
        "id": "8DYsOd7LaTa-"
      }
    },
    {
      "cell_type": "code",
      "source": [
        "train_path = 'drive/MyDrive/recognized_faces/train'"
      ],
      "metadata": {
        "id": "Rrwg2IVELiAG"
      },
      "execution_count": null,
      "outputs": []
    },
    {
      "cell_type": "code",
      "source": [
        "test_path = 'drive/MyDrive/recognized_faces/test'"
      ],
      "metadata": {
        "id": "IRBU_hcHLiD9"
      },
      "execution_count": null,
      "outputs": []
    },
    {
      "cell_type": "code",
      "source": [
        "faces_path = 'drive/MyDrive/recognized_faces'"
      ],
      "metadata": {
        "id": "Cpce53E7snA_"
      },
      "execution_count": null,
      "outputs": []
    },
    {
      "cell_type": "code",
      "source": [
        "faces_folder = os.listdir('drive/MyDrive/recognized_faces')"
      ],
      "metadata": {
        "id": "iqGAdJTPo2Gl"
      },
      "execution_count": null,
      "outputs": []
    },
    {
      "cell_type": "code",
      "source": [
        "faces = ['happiness', 'sadness', 'anger' ]"
      ],
      "metadata": {
        "id": "gOldYWOXprka"
      },
      "execution_count": null,
      "outputs": []
    },
    {
      "cell_type": "code",
      "source": [
        "amount = []\n",
        "\n",
        "for k in faces:\n",
        "  amount.append(len(os.listdir(f'drive/MyDrive/recognized_faces/{k}')))"
      ],
      "metadata": {
        "id": "3MADVEJJpCl2"
      },
      "execution_count": null,
      "outputs": []
    },
    {
      "cell_type": "code",
      "source": [
        "fig, ax = plt.subplots(figsize = (8,6))\n",
        "colors = ['wheat', 'chocolate', 'lightskyblue','teal', 'gold']\n",
        "ax.bar(faces, amount, color=colors, width=0.6)\n",
        "ax.set_title('FACES')\n",
        "ax.set_ylabel('Amount')\n",
        "\n",
        "for i in range(0, len(faces)):\n",
        "  ax.text(faces[i], amount[i] - 50, horizontalalignment='center', s=amount[i] )"
      ],
      "metadata": {
        "id": "lUl85b08uLJx",
        "outputId": "0679d1ab-623c-4237-f179-c747676630ba",
        "colab": {
          "base_uri": "https://localhost:8080/",
          "height": 545
        }
      },
      "execution_count": null,
      "outputs": [
        {
          "output_type": "display_data",
          "data": {
            "text/plain": [
              "<Figure size 800x600 with 1 Axes>"
            ],
            "image/png": "[encoded data removed]"
          },
          "metadata": {}
        }
      ]
    },
    {
      "cell_type": "code",
      "source": [
        "def create_set(faces, path, new_path, set_size):\n",
        "  for face in faces:\n",
        "    files_folder = os.listdir(f'{path}/{face}')\n",
        "    for n in range(0, round(len(files_folder)*set_size)):\n",
        "      files_folder = os.listdir(f'{path}/{face}')\n",
        "      photo_number = np.random.randint(len(files_folder))\n",
        "      os.makedirs(f'{new_path}/{face}', exist_ok=True)\n",
        "      os.replace(f'{path}/{face}/{files_folder[photo_number]}', f'{new_path}/{face}/{files_folder[photo_number]}')"
      ],
      "metadata": {
        "id": "g_WnUbYGaeyq"
      },
      "execution_count": null,
      "outputs": []
    },
    {
      "cell_type": "code",
      "source": [
        "#creating train set\n",
        "create_set(faces, faces_path, train_path, 0.8)"
      ],
      "metadata": {
        "id": "3FWCVi5rdn5y"
      },
      "execution_count": null,
      "outputs": []
    },
    {
      "cell_type": "code",
      "source": [
        "#creating test set\n",
        "create_set(faces, faces_path, test_path, 1)"
      ],
      "metadata": {
        "id": "sJSaMNw-fw86"
      },
      "execution_count": null,
      "outputs": []
    },
    {
      "cell_type": "code",
      "source": [
        "img_height = 128\n",
        "img_width = 128\n",
        "batch_size = 10"
      ],
      "metadata": {
        "id": "c_ZVY9QQ4nUg"
      },
      "execution_count": 22,
      "outputs": []
    },
    {
      "cell_type": "code",
      "source": [
        "train_ds = keras.utils.image_dataset_from_directory(\n",
        "    train_path,\n",
        "    validation_split = 0.2,\n",
        "    seed=0,\n",
        "    subset='training',\n",
        "    image_size = (img_height, img_width),\n",
        "    batch_size = batch_size,\n",
        "    label_mode = 'categorical')\n",
        "\n",
        "val_ds = keras.utils.image_dataset_from_directory(\n",
        "    train_path,\n",
        "    validation_split = 0.3,\n",
        "    seed=0,\n",
        "    subset='validation',\n",
        "    image_size = (img_height, img_width),\n",
        "    batch_size = batch_size,\n",
        "    label_mode = 'categorical')"
      ],
      "metadata": {
        "colab": {
          "base_uri": "https://localhost:8080/"
        },
        "id": "EU8uRubhLcLd",
        "outputId": "69527c8d-ba69-4116-95d1-7deb94b11f3f"
      },
      "execution_count": 23,
      "outputs": [
        {
          "output_type": "stream",
          "name": "stdout",
          "text": [
            "Found 1441 files belonging to 3 classes.\n",
            "Using 1153 files for training.\n",
            "Found 1441 files belonging to 3 classes.\n",
            "Using 432 files for validation.\n"
          ]
        }
      ]
    },
    {
      "cell_type": "markdown",
      "source": [
        "# **3. Model**"
      ],
      "metadata": {
        "id": "ZhKRz8rJ4Mw9"
      }
    },
    {
      "cell_type": "code",
      "source": [
        "model = Sequential()\n",
        "model.add(layers.Rescaling(1./255))\n",
        "\n",
        "model.add(layers.Conv2D(128, (1,1), padding='same', activation='relu'))\n",
        "model.add(layers.MaxPool2D((2,2)))\n",
        "# model.add(layers.RandomRotation(factor = (-1, 1), fill_mode='reflect', interpolation='bilinear',))\n",
        "\n",
        "model.add(layers.Flatten())\n",
        "model.add(layers.Dense(3, activation='softmax'))"
      ],
      "metadata": {
        "id": "3n0OSaSr3_8k"
      },
      "execution_count": 28,
      "outputs": []
    },
    {
      "cell_type": "code",
      "source": [
        "model.compile(optimizer='Adam',\n",
        "              loss='categorical_crossentropy',\n",
        "              metrics = ['accuracy'])"
      ],
      "metadata": {
        "id": "xYw3C8H5QPdx"
      },
      "execution_count": 30,
      "outputs": []
    },
    {
      "cell_type": "code",
      "source": [
        "history = model.fit(\n",
        "    train_ds,\n",
        "    validation_data = val_ds,\n",
        "    epochs = 100,\n",
        "    batch_size = batch_size)"
      ],
      "metadata": {
        "id": "4e-UaMnvQSEA",
        "outputId": "c3d117db-32e9-413a-b45f-d1f75c1039c6",
        "colab": {
          "base_uri": "https://localhost:8080/"
        }
      },
      "execution_count": null,
      "outputs": [
        {
          "output_type": "stream",
          "name": "stdout",
          "text": [
            "Epoch 1/100\n"
          ]
        }
      ]
    }
  ]
}