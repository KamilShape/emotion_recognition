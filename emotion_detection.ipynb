{
  "nbformat": 4,
  "nbformat_minor": 0,
  "metadata": {
    "colab": {
      "provenance": [],
      "gpuType": "T4",
      "authorship_tag": "ABX9TyM+QOTTO6jT2V95JJHQh7ow",
      "include_colab_link": true
    },
    "kernelspec": {
      "name": "python3",
      "display_name": "Python 3"
    },
    "language_info": {
      "name": "python"
    },
    "accelerator": "GPU"
  },
  "cells": [
    {
      "cell_type": "markdown",
      "metadata": {
        "id": "view-in-github",
        "colab_type": "text"
      },
      "source": [
        "<a href=\"https://colab.research.google.com/github/KamilShape/emotion_recognition/blob/main/emotion_detection.ipynb\" target=\"_parent\"><img src=\"https://colab.research.google.com/assets/colab-badge.svg\" alt=\"Open In Colab\"/></a>"
      ]
    },
    {
      "cell_type": "markdown",
      "source": [
        "# **1. Introduction**"
      ],
      "metadata": {
        "id": "1lh8p-w71ZSu"
      }
    },
    {
      "cell_type": "code",
      "source": [
        "#Libraries\n",
        "import os\n",
        "import cv2\n",
        "from google.colab.patches import cv2_imshow\n",
        "import shutil\n",
        "#----------------visualisation---------------\n",
        "import pandas as pd\n",
        "import matplotlib.pyplot as plt\n",
        "import seaborn as sns\n",
        "import numpy as np\n",
        "#----------------keras-----------------------\n",
        "import tensorflow as tf\n",
        "from tensorflow.keras.models import Sequential\n",
        "from tensorflow.keras import layers\n",
        "from tensorflow import keras\n",
        "#---------------PIL--------------------------\n",
        "from PIL import Image"
      ],
      "metadata": {
        "id": "K7-cZ7ON2lRQ"
      },
      "execution_count": 1,
      "outputs": []
    },
    {
      "cell_type": "code",
      "source": [
        "data_path = 'drive/MyDrive/faces/data'"
      ],
      "metadata": {
        "id": "XaY9sSsy2Ifq"
      },
      "execution_count": 2,
      "outputs": []
    },
    {
      "cell_type": "code",
      "source": [
        "from google.colab import drive\n",
        "drive.mount('/content/drive', force_remount=True)"
      ],
      "metadata": {
        "colab": {
          "base_uri": "https://localhost:8080/"
        },
        "id": "mo-0Ulan2uws",
        "outputId": "22230421-ca44-4939-e9b9-ddc3e8183aca"
      },
      "execution_count": 3,
      "outputs": [
        {
          "output_type": "stream",
          "name": "stdout",
          "text": [
            "Mounted at /content/drive\n"
          ]
        }
      ]
    },
    {
      "cell_type": "markdown",
      "source": [
        "*Dataset is quite balanced.*"
      ],
      "metadata": {
        "id": "bGxD1uv16dZ9"
      }
    },
    {
      "cell_type": "markdown",
      "source": [
        "# **2. Train and test set**"
      ],
      "metadata": {
        "id": "8DYsOd7LaTa-"
      }
    },
    {
      "cell_type": "code",
      "source": [
        "train_path = 'drive/MyDrive/recognized_faces/train'"
      ],
      "metadata": {
        "id": "Rrwg2IVELiAG"
      },
      "execution_count": null,
      "outputs": []
    },
    {
      "cell_type": "code",
      "source": [
        "test_path = 'drive/MyDrive/recognized_faces/test'"
      ],
      "metadata": {
        "id": "IRBU_hcHLiD9"
      },
      "execution_count": null,
      "outputs": []
    },
    {
      "cell_type": "code",
      "source": [
        "def create_set(faces, path, new_path, set_size):\n",
        "  for face in faces:\n",
        "    files_folder = os.listdir(f'{path}/{face}')\n",
        "    for n in range(0, round(len(files_folder)*set_size)):\n",
        "      files_folder = os.listdir(f'{path}/{face}')\n",
        "      photo_number = np.random.randint(len(files_folder))\n",
        "      print(photo_number)\n",
        "      os.makedirs(f'{new_path}/{face}', exist_ok=True)\n",
        "      os.replace(f'{path}/{face}/{files_folder[photo_number]}', f'{new_path}/{face}/{files_folder[photo_number]}')"
      ],
      "metadata": {
        "id": "g_WnUbYGaeyq"
      },
      "execution_count": null,
      "outputs": []
    },
    {
      "cell_type": "code",
      "source": [
        "faces = ['surprise-face', 'smiling-face', 'fear-face', 'disgust-face', 'anger-face']"
      ],
      "metadata": {
        "id": "a7PnzK10NnB4"
      },
      "execution_count": null,
      "outputs": []
    },
    {
      "cell_type": "code",
      "source": [
        "#creating train set\n",
        "create_set(faces, faces_path, train_path, 0.8)"
      ],
      "metadata": {
        "id": "3FWCVi5rdn5y"
      },
      "execution_count": null,
      "outputs": []
    },
    {
      "cell_type": "code",
      "source": [
        "#creating test set\n",
        "create_set(faces, faces_path, test_path, 1)"
      ],
      "metadata": {
        "id": "sJSaMNw-fw86"
      },
      "execution_count": null,
      "outputs": []
    },
    {
      "cell_type": "code",
      "source": [
        "img_height = 64\n",
        "img_width = 64\n",
        "batch_size = 10"
      ],
      "metadata": {
        "id": "Zx_YdQ3KObhl"
      },
      "execution_count": null,
      "outputs": []
    },
    {
      "cell_type": "code",
      "source": [
        "train_ds = keras.utils.image_dataset_from_directory(\n",
        "    train_path,\n",
        "    validation_split = 0.2,\n",
        "    seed=0,\n",
        "    subset='training',\n",
        "    image_size = (img_height, img_width),\n",
        "    batch_size = batch_size,\n",
        "    label_mode = 'categorical')\n",
        "\n",
        "val_ds = keras.utils.image_dataset_from_directory(\n",
        "    train_path,\n",
        "    validation_split = 0.3,\n",
        "    seed=0,\n",
        "    subset='validation',\n",
        "    image_size = (img_height, img_width),\n",
        "    batch_size = batch_size,\n",
        "    label_mode = 'categorical')"
      ],
      "metadata": {
        "colab": {
          "base_uri": "https://localhost:8080/"
        },
        "id": "EU8uRubhLcLd",
        "outputId": "9de872ca-688e-4356-a722-2402e992e213"
      },
      "execution_count": null,
      "outputs": [
        {
          "output_type": "stream",
          "name": "stdout",
          "text": [
            "Found 168 files belonging to 5 classes.\n",
            "Using 135 files for training.\n",
            "Found 168 files belonging to 5 classes.\n",
            "Using 50 files for validation.\n"
          ]
        }
      ]
    },
    {
      "cell_type": "markdown",
      "source": [
        "# **3. Model**"
      ],
      "metadata": {
        "id": "ZhKRz8rJ4Mw9"
      }
    },
    {
      "cell_type": "code",
      "source": [
        "img_height = 32\n",
        "img_width = 32\n",
        "batch_size = 20"
      ],
      "metadata": {
        "id": "c_ZVY9QQ4nUg"
      },
      "execution_count": null,
      "outputs": []
    },
    {
      "cell_type": "code",
      "source": [
        "model = Sequential()\n",
        "model.add(layers.Rescaling(1./255))\n",
        "\n",
        "model.add(layers.Conv2D(32, (5,5), padding='same', activation='relu'))\n",
        "model.add(layers.MaxPool2D((2,2)))\n",
        "model.add(layers.RandomRotation(factor = (-1, 1), fill_mode='reflect', interpolation='bilinear',))\n",
        "\n",
        "model.add(layers.Flatten())\n",
        "model.add(layers.Dense(5, activation='softmax'))"
      ],
      "metadata": {
        "id": "3n0OSaSr3_8k"
      },
      "execution_count": null,
      "outputs": []
    },
    {
      "cell_type": "code",
      "source": [
        "model.compile(optimizer='Adam',\n",
        "              loss='categorical_crossentropy',\n",
        "              metrics = ['accuracy'])"
      ],
      "metadata": {
        "id": "xYw3C8H5QPdx"
      },
      "execution_count": null,
      "outputs": []
    },
    {
      "cell_type": "code",
      "source": [
        "history = model.fit(\n",
        "    train_ds,\n",
        "    validation_data = val_ds,\n",
        "    epochs = 150,\n",
        "    batch_size = batch_size)"
      ],
      "metadata": {
        "id": "4e-UaMnvQSEA",
        "outputId": "eb25902e-5ddf-4fcd-fad3-8235374c0929",
        "colab": {
          "base_uri": "https://localhost:8080/"
        }
      },
      "execution_count": null,
      "outputs": [
        {
          "output_type": "stream",
          "name": "stdout",
          "text": [
            "Epoch 1/150\n",
            "14/14 [==============================] - 30s 562ms/step - loss: 2.4825 - accuracy: 0.1926 - val_loss: 1.6119 - val_accuracy: 0.1800\n",
            "Epoch 2/150\n",
            "14/14 [==============================] - 0s 13ms/step - loss: 1.6052 - accuracy: 0.2148 - val_loss: 1.6075 - val_accuracy: 0.2000\n",
            "Epoch 3/150\n",
            "14/14 [==============================] - 0s 13ms/step - loss: 1.6029 - accuracy: 0.2296 - val_loss: 1.6050 - val_accuracy: 0.2000\n",
            "Epoch 4/150\n",
            "14/14 [==============================] - 0s 12ms/step - loss: 1.5924 - accuracy: 0.2667 - val_loss: 1.6058 - val_accuracy: 0.2000\n",
            "Epoch 5/150\n",
            "14/14 [==============================] - 0s 13ms/step - loss: 1.5880 - accuracy: 0.2296 - val_loss: 1.6023 - val_accuracy: 0.2600\n",
            "Epoch 6/150\n",
            "14/14 [==============================] - 0s 18ms/step - loss: 1.5948 - accuracy: 0.2074 - val_loss: 1.6013 - val_accuracy: 0.3200\n",
            "Epoch 7/150\n",
            "14/14 [==============================] - 0s 21ms/step - loss: 1.5881 - accuracy: 0.2667 - val_loss: 1.5890 - val_accuracy: 0.2600\n",
            "Epoch 8/150\n",
            "14/14 [==============================] - 0s 21ms/step - loss: 1.5865 - accuracy: 0.3407 - val_loss: 1.5987 - val_accuracy: 0.3200\n",
            "Epoch 9/150\n",
            "14/14 [==============================] - 0s 22ms/step - loss: 1.5586 - accuracy: 0.3556 - val_loss: 1.5828 - val_accuracy: 0.4000\n",
            "Epoch 10/150\n",
            "14/14 [==============================] - 0s 16ms/step - loss: 1.5450 - accuracy: 0.3185 - val_loss: 1.5817 - val_accuracy: 0.3600\n",
            "Epoch 11/150\n",
            "14/14 [==============================] - 0s 21ms/step - loss: 1.5315 - accuracy: 0.4074 - val_loss: 1.5455 - val_accuracy: 0.3600\n",
            "Epoch 12/150\n",
            "14/14 [==============================] - 0s 20ms/step - loss: 1.4842 - accuracy: 0.3852 - val_loss: 1.5399 - val_accuracy: 0.3800\n",
            "Epoch 13/150\n",
            "14/14 [==============================] - 0s 12ms/step - loss: 1.4627 - accuracy: 0.4000 - val_loss: 1.5157 - val_accuracy: 0.3400\n",
            "Epoch 14/150\n",
            "14/14 [==============================] - 0s 13ms/step - loss: 1.4485 - accuracy: 0.3926 - val_loss: 1.5472 - val_accuracy: 0.3400\n",
            "Epoch 15/150\n",
            "14/14 [==============================] - 0s 12ms/step - loss: 1.4801 - accuracy: 0.3630 - val_loss: 1.4896 - val_accuracy: 0.3800\n",
            "Epoch 16/150\n",
            "14/14 [==============================] - 0s 12ms/step - loss: 1.4261 - accuracy: 0.4074 - val_loss: 1.4637 - val_accuracy: 0.4200\n",
            "Epoch 17/150\n",
            "14/14 [==============================] - 0s 13ms/step - loss: 1.3729 - accuracy: 0.4889 - val_loss: 1.4500 - val_accuracy: 0.4200\n",
            "Epoch 18/150\n",
            "14/14 [==============================] - 0s 12ms/step - loss: 1.3078 - accuracy: 0.4667 - val_loss: 1.4198 - val_accuracy: 0.4200\n",
            "Epoch 19/150\n",
            "14/14 [==============================] - 0s 19ms/step - loss: 1.3407 - accuracy: 0.4519 - val_loss: 1.4389 - val_accuracy: 0.4000\n",
            "Epoch 20/150\n",
            "14/14 [==============================] - 0s 18ms/step - loss: 1.2642 - accuracy: 0.5111 - val_loss: 1.4191 - val_accuracy: 0.5000\n",
            "Epoch 21/150\n",
            "14/14 [==============================] - 0s 13ms/step - loss: 1.2661 - accuracy: 0.4741 - val_loss: 1.4089 - val_accuracy: 0.4200\n",
            "Epoch 22/150\n",
            "14/14 [==============================] - 0s 13ms/step - loss: 1.2103 - accuracy: 0.4889 - val_loss: 1.3774 - val_accuracy: 0.4800\n",
            "Epoch 23/150\n",
            "14/14 [==============================] - 0s 13ms/step - loss: 1.1937 - accuracy: 0.5556 - val_loss: 1.4790 - val_accuracy: 0.3800\n",
            "Epoch 24/150\n",
            "14/14 [==============================] - 0s 14ms/step - loss: 1.1906 - accuracy: 0.5778 - val_loss: 1.3978 - val_accuracy: 0.4800\n",
            "Epoch 25/150\n",
            "14/14 [==============================] - 0s 12ms/step - loss: 1.2484 - accuracy: 0.5111 - val_loss: 1.2750 - val_accuracy: 0.5000\n",
            "Epoch 26/150\n",
            "14/14 [==============================] - 0s 18ms/step - loss: 1.1750 - accuracy: 0.5704 - val_loss: 1.2859 - val_accuracy: 0.4600\n",
            "Epoch 27/150\n",
            "14/14 [==============================] - 0s 19ms/step - loss: 1.1947 - accuracy: 0.5259 - val_loss: 1.2750 - val_accuracy: 0.5200\n",
            "Epoch 28/150\n",
            "14/14 [==============================] - 0s 12ms/step - loss: 1.0634 - accuracy: 0.6000 - val_loss: 1.3711 - val_accuracy: 0.4200\n",
            "Epoch 29/150\n",
            "14/14 [==============================] - 0s 18ms/step - loss: 1.1013 - accuracy: 0.5704 - val_loss: 1.3270 - val_accuracy: 0.4600\n",
            "Epoch 30/150\n",
            "14/14 [==============================] - 0s 13ms/step - loss: 1.1019 - accuracy: 0.5926 - val_loss: 1.3586 - val_accuracy: 0.4800\n",
            "Epoch 31/150\n",
            "14/14 [==============================] - 0s 12ms/step - loss: 1.0291 - accuracy: 0.5778 - val_loss: 1.3653 - val_accuracy: 0.4600\n",
            "Epoch 32/150\n",
            "14/14 [==============================] - 0s 19ms/step - loss: 1.1095 - accuracy: 0.6296 - val_loss: 1.3267 - val_accuracy: 0.5000\n",
            "Epoch 33/150\n",
            "14/14 [==============================] - 0s 12ms/step - loss: 1.1335 - accuracy: 0.5333 - val_loss: 1.4623 - val_accuracy: 0.3800\n",
            "Epoch 34/150\n",
            "14/14 [==============================] - 0s 13ms/step - loss: 1.0269 - accuracy: 0.6444 - val_loss: 1.4684 - val_accuracy: 0.4200\n",
            "Epoch 35/150\n",
            "14/14 [==============================] - 0s 13ms/step - loss: 1.0289 - accuracy: 0.6074 - val_loss: 1.4732 - val_accuracy: 0.4400\n",
            "Epoch 36/150\n",
            "14/14 [==============================] - 0s 12ms/step - loss: 1.0454 - accuracy: 0.6000 - val_loss: 1.3283 - val_accuracy: 0.4400\n",
            "Epoch 37/150\n",
            "14/14 [==============================] - 0s 12ms/step - loss: 0.9346 - accuracy: 0.6667 - val_loss: 1.5877 - val_accuracy: 0.4800\n",
            "Epoch 38/150\n",
            "14/14 [==============================] - 0s 12ms/step - loss: 1.0176 - accuracy: 0.6296 - val_loss: 1.6029 - val_accuracy: 0.5000\n",
            "Epoch 39/150\n",
            "14/14 [==============================] - 0s 12ms/step - loss: 1.0478 - accuracy: 0.6074 - val_loss: 1.3503 - val_accuracy: 0.5200\n",
            "Epoch 40/150\n",
            "14/14 [==============================] - 0s 14ms/step - loss: 0.9626 - accuracy: 0.5926 - val_loss: 1.4719 - val_accuracy: 0.4400\n",
            "Epoch 41/150\n",
            "14/14 [==============================] - 0s 13ms/step - loss: 0.9797 - accuracy: 0.6148 - val_loss: 1.3601 - val_accuracy: 0.5400\n",
            "Epoch 42/150\n",
            "14/14 [==============================] - 0s 12ms/step - loss: 0.9336 - accuracy: 0.6889 - val_loss: 1.3841 - val_accuracy: 0.4800\n",
            "Epoch 43/150\n",
            "14/14 [==============================] - 0s 12ms/step - loss: 0.8609 - accuracy: 0.6222 - val_loss: 1.3974 - val_accuracy: 0.5000\n",
            "Epoch 44/150\n",
            "14/14 [==============================] - 0s 12ms/step - loss: 0.9105 - accuracy: 0.6815 - val_loss: 1.4633 - val_accuracy: 0.4600\n",
            "Epoch 45/150\n",
            "14/14 [==============================] - 0s 13ms/step - loss: 0.8861 - accuracy: 0.6889 - val_loss: 1.4265 - val_accuracy: 0.4600\n",
            "Epoch 46/150\n",
            "14/14 [==============================] - 0s 22ms/step - loss: 0.9778 - accuracy: 0.6444 - val_loss: 1.4058 - val_accuracy: 0.4400\n",
            "Epoch 47/150\n",
            "14/14 [==============================] - 0s 22ms/step - loss: 0.8796 - accuracy: 0.6889 - val_loss: 1.4873 - val_accuracy: 0.5200\n",
            "Epoch 48/150\n",
            "14/14 [==============================] - 0s 21ms/step - loss: 0.8901 - accuracy: 0.6370 - val_loss: 1.3846 - val_accuracy: 0.4600\n",
            "Epoch 49/150\n",
            "14/14 [==============================] - 0s 17ms/step - loss: 0.8272 - accuracy: 0.6815 - val_loss: 1.4189 - val_accuracy: 0.4800\n",
            "Epoch 50/150\n",
            "14/14 [==============================] - 0s 21ms/step - loss: 0.8331 - accuracy: 0.6815 - val_loss: 1.6626 - val_accuracy: 0.4800\n",
            "Epoch 51/150\n",
            "14/14 [==============================] - 0s 22ms/step - loss: 0.8675 - accuracy: 0.6741 - val_loss: 1.4547 - val_accuracy: 0.4800\n",
            "Epoch 52/150\n",
            "14/14 [==============================] - 0s 13ms/step - loss: 0.8549 - accuracy: 0.7037 - val_loss: 1.6256 - val_accuracy: 0.4800\n",
            "Epoch 53/150\n",
            "14/14 [==============================] - 0s 20ms/step - loss: 0.8068 - accuracy: 0.7259 - val_loss: 1.5758 - val_accuracy: 0.4400\n",
            "Epoch 54/150\n",
            "14/14 [==============================] - 0s 18ms/step - loss: 0.8965 - accuracy: 0.6815 - val_loss: 1.5092 - val_accuracy: 0.4800\n",
            "Epoch 55/150\n",
            "14/14 [==============================] - 0s 13ms/step - loss: 0.7966 - accuracy: 0.7185 - val_loss: 1.6394 - val_accuracy: 0.4400\n",
            "Epoch 56/150\n",
            "14/14 [==============================] - 0s 12ms/step - loss: 0.8770 - accuracy: 0.7111 - val_loss: 1.4942 - val_accuracy: 0.4600\n",
            "Epoch 57/150\n",
            "14/14 [==============================] - 0s 12ms/step - loss: 0.7884 - accuracy: 0.7111 - val_loss: 1.5314 - val_accuracy: 0.4400\n",
            "Epoch 58/150\n",
            "14/14 [==============================] - 0s 12ms/step - loss: 0.7738 - accuracy: 0.7037 - val_loss: 1.6554 - val_accuracy: 0.4600\n",
            "Epoch 59/150\n",
            "14/14 [==============================] - 0s 12ms/step - loss: 0.7625 - accuracy: 0.6889 - val_loss: 1.3814 - val_accuracy: 0.4600\n",
            "Epoch 60/150\n",
            "14/14 [==============================] - 0s 14ms/step - loss: 0.7945 - accuracy: 0.7111 - val_loss: 1.4751 - val_accuracy: 0.5200\n",
            "Epoch 61/150\n",
            "14/14 [==============================] - 0s 11ms/step - loss: 0.7870 - accuracy: 0.6889 - val_loss: 1.4370 - val_accuracy: 0.4800\n",
            "Epoch 62/150\n",
            "14/14 [==============================] - 0s 18ms/step - loss: 0.7298 - accuracy: 0.6889 - val_loss: 1.5560 - val_accuracy: 0.5000\n",
            "Epoch 63/150\n",
            "14/14 [==============================] - 0s 19ms/step - loss: 0.6914 - accuracy: 0.7852 - val_loss: 1.6448 - val_accuracy: 0.5200\n",
            "Epoch 64/150\n",
            "14/14 [==============================] - 0s 12ms/step - loss: 0.7269 - accuracy: 0.7407 - val_loss: 1.6164 - val_accuracy: 0.4800\n",
            "Epoch 65/150\n",
            "14/14 [==============================] - 0s 12ms/step - loss: 0.7707 - accuracy: 0.7407 - val_loss: 1.6348 - val_accuracy: 0.4400\n",
            "Epoch 66/150\n",
            "14/14 [==============================] - 0s 15ms/step - loss: 0.6879 - accuracy: 0.7481 - val_loss: 1.6558 - val_accuracy: 0.5200\n",
            "Epoch 67/150\n",
            "14/14 [==============================] - 0s 19ms/step - loss: 0.6749 - accuracy: 0.7926 - val_loss: 1.5662 - val_accuracy: 0.5400\n",
            "Epoch 68/150\n",
            "14/14 [==============================] - 0s 15ms/step - loss: 0.9543 - accuracy: 0.7185 - val_loss: 1.4469 - val_accuracy: 0.5600\n",
            "Epoch 69/150\n",
            "14/14 [==============================] - 0s 13ms/step - loss: 0.7744 - accuracy: 0.7259 - val_loss: 1.5694 - val_accuracy: 0.5400\n",
            "Epoch 70/150\n",
            "14/14 [==============================] - 0s 12ms/step - loss: 0.6666 - accuracy: 0.7778 - val_loss: 1.4256 - val_accuracy: 0.5400\n",
            "Epoch 71/150\n",
            "14/14 [==============================] - 0s 13ms/step - loss: 0.6197 - accuracy: 0.7852 - val_loss: 1.5457 - val_accuracy: 0.5400\n",
            "Epoch 72/150\n",
            "14/14 [==============================] - 0s 11ms/step - loss: 0.6169 - accuracy: 0.7778 - val_loss: 1.8285 - val_accuracy: 0.4600\n",
            "Epoch 73/150\n",
            "14/14 [==============================] - 0s 19ms/step - loss: 0.6262 - accuracy: 0.7481 - val_loss: 1.6611 - val_accuracy: 0.5400\n",
            "Epoch 74/150\n",
            "14/14 [==============================] - 0s 12ms/step - loss: 0.5983 - accuracy: 0.8148 - val_loss: 1.7152 - val_accuracy: 0.5400\n",
            "Epoch 75/150\n",
            "14/14 [==============================] - 0s 18ms/step - loss: 0.5057 - accuracy: 0.8519 - val_loss: 1.7006 - val_accuracy: 0.5400\n",
            "Epoch 76/150\n",
            "14/14 [==============================] - 0s 18ms/step - loss: 0.6393 - accuracy: 0.7481 - val_loss: 1.6303 - val_accuracy: 0.5400\n",
            "Epoch 77/150\n",
            "14/14 [==============================] - 0s 12ms/step - loss: 0.6070 - accuracy: 0.7704 - val_loss: 1.6430 - val_accuracy: 0.5400\n",
            "Epoch 78/150\n",
            "14/14 [==============================] - 0s 19ms/step - loss: 0.5624 - accuracy: 0.8148 - val_loss: 1.8004 - val_accuracy: 0.5400\n",
            "Epoch 79/150\n",
            "14/14 [==============================] - 0s 12ms/step - loss: 0.6317 - accuracy: 0.7556 - val_loss: 1.7557 - val_accuracy: 0.4600\n",
            "Epoch 80/150\n",
            "14/14 [==============================] - 0s 12ms/step - loss: 0.6109 - accuracy: 0.7852 - val_loss: 1.4646 - val_accuracy: 0.5600\n",
            "Epoch 81/150\n",
            "14/14 [==============================] - 0s 18ms/step - loss: 0.5839 - accuracy: 0.7778 - val_loss: 1.5619 - val_accuracy: 0.5400\n",
            "Epoch 82/150\n",
            "14/14 [==============================] - 0s 23ms/step - loss: 0.5487 - accuracy: 0.8074 - val_loss: 1.7570 - val_accuracy: 0.5200\n",
            "Epoch 83/150\n",
            "14/14 [==============================] - 0s 18ms/step - loss: 0.5595 - accuracy: 0.8074 - val_loss: 1.5995 - val_accuracy: 0.5400\n",
            "Epoch 84/150\n",
            "14/14 [==============================] - 0s 23ms/step - loss: 0.6175 - accuracy: 0.7704 - val_loss: 1.6161 - val_accuracy: 0.5800\n",
            "Epoch 85/150\n",
            "14/14 [==============================] - 0s 18ms/step - loss: 0.5523 - accuracy: 0.8296 - val_loss: 1.5992 - val_accuracy: 0.6000\n",
            "Epoch 86/150\n",
            "14/14 [==============================] - 0s 18ms/step - loss: 0.5389 - accuracy: 0.7926 - val_loss: 1.6528 - val_accuracy: 0.6000\n",
            "Epoch 87/150\n",
            "14/14 [==============================] - 0s 21ms/step - loss: 0.5112 - accuracy: 0.8296 - val_loss: 1.7290 - val_accuracy: 0.5600\n",
            "Epoch 88/150\n",
            "14/14 [==============================] - 0s 20ms/step - loss: 0.5205 - accuracy: 0.8222 - val_loss: 1.6127 - val_accuracy: 0.6000\n",
            "Epoch 89/150\n",
            "14/14 [==============================] - 0s 12ms/step - loss: 0.5449 - accuracy: 0.8444 - val_loss: 1.7687 - val_accuracy: 0.5200\n",
            "Epoch 90/150\n",
            "14/14 [==============================] - 0s 13ms/step - loss: 0.4447 - accuracy: 0.8593 - val_loss: 1.5802 - val_accuracy: 0.5800\n",
            "Epoch 91/150\n",
            "14/14 [==============================] - 0s 14ms/step - loss: 0.6049 - accuracy: 0.7556 - val_loss: 1.6615 - val_accuracy: 0.5600\n",
            "Epoch 92/150\n",
            "14/14 [==============================] - 0s 12ms/step - loss: 0.4826 - accuracy: 0.8222 - val_loss: 1.5164 - val_accuracy: 0.5400\n",
            "Epoch 93/150\n",
            "14/14 [==============================] - 0s 13ms/step - loss: 0.5120 - accuracy: 0.8444 - val_loss: 1.4782 - val_accuracy: 0.5800\n",
            "Epoch 94/150\n",
            "14/14 [==============================] - 0s 13ms/step - loss: 0.4813 - accuracy: 0.8370 - val_loss: 1.5796 - val_accuracy: 0.5400\n",
            "Epoch 95/150\n",
            "14/14 [==============================] - 0s 12ms/step - loss: 0.4535 - accuracy: 0.8519 - val_loss: 1.6069 - val_accuracy: 0.5600\n",
            "Epoch 96/150\n",
            "14/14 [==============================] - 0s 12ms/step - loss: 0.5343 - accuracy: 0.8074 - val_loss: 1.5448 - val_accuracy: 0.5800\n",
            "Epoch 97/150\n",
            "14/14 [==============================] - 0s 19ms/step - loss: 0.5732 - accuracy: 0.7778 - val_loss: 1.5380 - val_accuracy: 0.5400\n",
            "Epoch 98/150\n",
            "14/14 [==============================] - 0s 18ms/step - loss: 0.5839 - accuracy: 0.8148 - val_loss: 1.4185 - val_accuracy: 0.5800\n",
            "Epoch 99/150\n",
            "14/14 [==============================] - 0s 12ms/step - loss: 0.4264 - accuracy: 0.8741 - val_loss: 1.7947 - val_accuracy: 0.4600\n",
            "Epoch 100/150\n",
            "14/14 [==============================] - 0s 12ms/step - loss: 0.4550 - accuracy: 0.8519 - val_loss: 1.5872 - val_accuracy: 0.5800\n",
            "Epoch 101/150\n",
            "14/14 [==============================] - 0s 12ms/step - loss: 0.4981 - accuracy: 0.8148 - val_loss: 1.8663 - val_accuracy: 0.4800\n",
            "Epoch 102/150\n",
            "14/14 [==============================] - 0s 18ms/step - loss: 0.4140 - accuracy: 0.8593 - val_loss: 1.8617 - val_accuracy: 0.5200\n",
            "Epoch 103/150\n",
            "14/14 [==============================] - 0s 13ms/step - loss: 0.4538 - accuracy: 0.8370 - val_loss: 1.6046 - val_accuracy: 0.5200\n",
            "Epoch 104/150\n",
            "14/14 [==============================] - 0s 12ms/step - loss: 0.3720 - accuracy: 0.9037 - val_loss: 1.8270 - val_accuracy: 0.5400\n",
            "Epoch 105/150\n",
            "14/14 [==============================] - 0s 11ms/step - loss: 0.3881 - accuracy: 0.8519 - val_loss: 1.7644 - val_accuracy: 0.5600\n",
            "Epoch 106/150\n",
            "14/14 [==============================] - 0s 12ms/step - loss: 0.4655 - accuracy: 0.8444 - val_loss: 1.6708 - val_accuracy: 0.5600\n",
            "Epoch 107/150\n",
            "14/14 [==============================] - 0s 12ms/step - loss: 0.3149 - accuracy: 0.9111 - val_loss: 1.7963 - val_accuracy: 0.5400\n",
            "Epoch 108/150\n",
            "14/14 [==============================] - 0s 13ms/step - loss: 0.4055 - accuracy: 0.8741 - val_loss: 1.9392 - val_accuracy: 0.5800\n",
            "Epoch 109/150\n",
            "14/14 [==============================] - 0s 12ms/step - loss: 0.4269 - accuracy: 0.8667 - val_loss: 1.8037 - val_accuracy: 0.5000\n",
            "Epoch 110/150\n",
            "14/14 [==============================] - 0s 19ms/step - loss: 0.3991 - accuracy: 0.8667 - val_loss: 1.8296 - val_accuracy: 0.5000\n",
            "Epoch 111/150\n",
            "14/14 [==============================] - 0s 13ms/step - loss: 0.3876 - accuracy: 0.8889 - val_loss: 1.6930 - val_accuracy: 0.5600\n",
            "Epoch 112/150\n",
            "14/14 [==============================] - 0s 13ms/step - loss: 0.3526 - accuracy: 0.8963 - val_loss: 1.8330 - val_accuracy: 0.5600\n",
            "Epoch 113/150\n",
            "14/14 [==============================] - 0s 18ms/step - loss: 0.3217 - accuracy: 0.8889 - val_loss: 1.9486 - val_accuracy: 0.5400\n",
            "Epoch 114/150\n",
            "14/14 [==============================] - 0s 14ms/step - loss: 0.3616 - accuracy: 0.8741 - val_loss: 1.6608 - val_accuracy: 0.5400\n",
            "Epoch 115/150\n",
            "14/14 [==============================] - 0s 13ms/step - loss: 0.3529 - accuracy: 0.8741 - val_loss: 1.9140 - val_accuracy: 0.5200\n",
            "Epoch 116/150\n",
            "14/14 [==============================] - 0s 13ms/step - loss: 0.3684 - accuracy: 0.8741 - val_loss: 1.7649 - val_accuracy: 0.5400\n",
            "Epoch 117/150\n",
            "14/14 [==============================] - 0s 12ms/step - loss: 0.3517 - accuracy: 0.9111 - val_loss: 1.8140 - val_accuracy: 0.5600\n",
            "Epoch 118/150\n",
            "14/14 [==============================] - 0s 12ms/step - loss: 0.3620 - accuracy: 0.8815 - val_loss: 1.9578 - val_accuracy: 0.5600\n",
            "Epoch 119/150\n",
            "14/14 [==============================] - 0s 22ms/step - loss: 0.3461 - accuracy: 0.8963 - val_loss: 1.7865 - val_accuracy: 0.6000\n",
            "Epoch 120/150\n",
            "14/14 [==============================] - 0s 23ms/step - loss: 0.3923 - accuracy: 0.8815 - val_loss: 1.9971 - val_accuracy: 0.5400\n",
            "Epoch 121/150\n",
            "14/14 [==============================] - 0s 22ms/step - loss: 0.3565 - accuracy: 0.8889 - val_loss: 1.7500 - val_accuracy: 0.5800\n",
            "Epoch 122/150\n",
            "14/14 [==============================] - 0s 20ms/step - loss: 0.3643 - accuracy: 0.8593 - val_loss: 1.9708 - val_accuracy: 0.5600\n",
            "Epoch 123/150\n",
            "14/14 [==============================] - 0s 20ms/step - loss: 0.2914 - accuracy: 0.9407 - val_loss: 1.7500 - val_accuracy: 0.5800\n",
            "Epoch 124/150\n",
            "14/14 [==============================] - 0s 21ms/step - loss: 0.3384 - accuracy: 0.9111 - val_loss: 1.8998 - val_accuracy: 0.6000\n",
            "Epoch 125/150\n",
            "14/14 [==============================] - 0s 21ms/step - loss: 0.3851 - accuracy: 0.8741 - val_loss: 1.8812 - val_accuracy: 0.5400\n",
            "Epoch 126/150\n",
            "14/14 [==============================] - 0s 12ms/step - loss: 0.3083 - accuracy: 0.9111 - val_loss: 1.6981 - val_accuracy: 0.6200\n",
            "Epoch 127/150\n",
            "14/14 [==============================] - 0s 12ms/step - loss: 0.2861 - accuracy: 0.9333 - val_loss: 1.9096 - val_accuracy: 0.5800\n",
            "Epoch 128/150\n",
            "14/14 [==============================] - 0s 12ms/step - loss: 0.4167 - accuracy: 0.8370 - val_loss: 1.9698 - val_accuracy: 0.5200\n",
            "Epoch 129/150\n",
            "14/14 [==============================] - 0s 12ms/step - loss: 0.3366 - accuracy: 0.8889 - val_loss: 1.8646 - val_accuracy: 0.6000\n",
            "Epoch 130/150\n",
            "14/14 [==============================] - 0s 13ms/step - loss: 0.2939 - accuracy: 0.9185 - val_loss: 1.8273 - val_accuracy: 0.5800\n",
            "Epoch 131/150\n",
            "14/14 [==============================] - 0s 18ms/step - loss: 0.3147 - accuracy: 0.9111 - val_loss: 1.8353 - val_accuracy: 0.5800\n",
            "Epoch 132/150\n",
            "14/14 [==============================] - 0s 12ms/step - loss: 0.2648 - accuracy: 0.9185 - val_loss: 1.8510 - val_accuracy: 0.5800\n",
            "Epoch 133/150\n",
            "14/14 [==============================] - 0s 13ms/step - loss: 0.2859 - accuracy: 0.8815 - val_loss: 1.8263 - val_accuracy: 0.5600\n",
            "Epoch 134/150\n",
            "14/14 [==============================] - 0s 13ms/step - loss: 0.2734 - accuracy: 0.9259 - val_loss: 1.8751 - val_accuracy: 0.5000\n",
            "Epoch 135/150\n",
            "14/14 [==============================] - 0s 18ms/step - loss: 0.2833 - accuracy: 0.9185 - val_loss: 1.8464 - val_accuracy: 0.5800\n",
            "Epoch 136/150\n",
            "14/14 [==============================] - 0s 15ms/step - loss: 0.2050 - accuracy: 0.9481 - val_loss: 1.9508 - val_accuracy: 0.6000\n",
            "Epoch 137/150\n",
            "14/14 [==============================] - 0s 19ms/step - loss: 0.2369 - accuracy: 0.9481 - val_loss: 1.9288 - val_accuracy: 0.5600\n",
            "Epoch 138/150\n",
            "14/14 [==============================] - 0s 12ms/step - loss: 0.2488 - accuracy: 0.9259 - val_loss: 2.0888 - val_accuracy: 0.5400\n",
            "Epoch 139/150\n",
            "14/14 [==============================] - 0s 12ms/step - loss: 0.2456 - accuracy: 0.9333 - val_loss: 1.8456 - val_accuracy: 0.5800\n",
            "Epoch 140/150\n",
            "14/14 [==============================] - 0s 12ms/step - loss: 0.2638 - accuracy: 0.9037 - val_loss: 2.0044 - val_accuracy: 0.5600\n",
            "Epoch 141/150\n",
            "14/14 [==============================] - 0s 14ms/step - loss: 0.2261 - accuracy: 0.9481 - val_loss: 1.9030 - val_accuracy: 0.5600\n",
            "Epoch 142/150\n",
            "14/14 [==============================] - 0s 18ms/step - loss: 0.2255 - accuracy: 0.9259 - val_loss: 2.1176 - val_accuracy: 0.5400\n",
            "Epoch 143/150\n",
            "14/14 [==============================] - 0s 18ms/step - loss: 0.2764 - accuracy: 0.9111 - val_loss: 2.0097 - val_accuracy: 0.5800\n",
            "Epoch 144/150\n",
            "14/14 [==============================] - 0s 12ms/step - loss: 0.2466 - accuracy: 0.9407 - val_loss: 2.0000 - val_accuracy: 0.5800\n",
            "Epoch 145/150\n",
            "14/14 [==============================] - 0s 13ms/step - loss: 0.1745 - accuracy: 0.9704 - val_loss: 2.0588 - val_accuracy: 0.5400\n",
            "Epoch 146/150\n",
            "14/14 [==============================] - 0s 13ms/step - loss: 0.1932 - accuracy: 0.9630 - val_loss: 2.1534 - val_accuracy: 0.6000\n",
            "Epoch 147/150\n",
            "14/14 [==============================] - 0s 13ms/step - loss: 0.2058 - accuracy: 0.9407 - val_loss: 2.1667 - val_accuracy: 0.5400\n",
            "Epoch 148/150\n",
            "14/14 [==============================] - 0s 13ms/step - loss: 0.2291 - accuracy: 0.9407 - val_loss: 2.0945 - val_accuracy: 0.5800\n",
            "Epoch 149/150\n",
            "14/14 [==============================] - 0s 14ms/step - loss: 0.1890 - accuracy: 0.9630 - val_loss: 2.1280 - val_accuracy: 0.5400\n",
            "Epoch 150/150\n",
            "14/14 [==============================] - 0s 12ms/step - loss: 0.1975 - accuracy: 0.9333 - val_loss: 1.9219 - val_accuracy: 0.6000\n"
          ]
        }
      ]
    }
  ]
}