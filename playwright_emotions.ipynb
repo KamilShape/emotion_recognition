{
  "cells": [
    {
      "cell_type": "markdown",
      "metadata": {
        "id": "view-in-github",
        "colab_type": "text"
      },
      "source": [
        "<a href=\"https://colab.research.google.com/github/KamilShape/emotion_recognition/blob/main/playwright_emotions.ipynb\" target=\"_parent\"><img src=\"https://colab.research.google.com/assets/colab-badge.svg\" alt=\"Open In Colab\"/></a>"
      ]
    },
    {
      "cell_type": "markdown",
      "source": [
        "# **1.Photos download**"
      ],
      "metadata": {
        "id": "IXpbHwmDBlde"
      }
    },
    {
      "cell_type": "code",
      "source": [
        "import cv2\n",
        "import pandas as pd\n",
        "import matplotlib.pyplot as plt\n",
        "import seaborn as sns\n",
        "import numpy as np"
      ],
      "metadata": {
        "colab": {
          "base_uri": "https://localhost:8080/"
        },
        "id": "-q_dA1fGDobc",
        "outputId": "f980e8be-6308-4d3a-a160-26aeea0c8fe5"
      },
      "execution_count": 23,
      "outputs": [
        {
          "output_type": "stream",
          "name": "stderr",
          "text": [
            "ERROR:asyncio:Future exception was never retrieved\n",
            "future: <Future finished exception=Error('Connection closed')>\n",
            "playwright._impl._api_types.Error: Connection closed\n"
          ]
        }
      ]
    },
    {
      "cell_type": "code",
      "execution_count": 24,
      "metadata": {
        "colab": {
          "base_uri": "https://localhost:8080/"
        },
        "id": "puQa3ZJ96hOw",
        "outputId": "3fc253e2-2d90-47b6-d44f-6d280811fa50"
      },
      "outputs": [
        {
          "output_type": "stream",
          "name": "stdout",
          "text": [
            "Requirement already satisfied: playwright in /usr/local/lib/python3.10/dist-packages (1.36.0)\n",
            "Requirement already satisfied: greenlet==2.0.2 in /usr/local/lib/python3.10/dist-packages (from playwright) (2.0.2)\n",
            "Requirement already satisfied: pyee==9.0.4 in /usr/local/lib/python3.10/dist-packages (from playwright) (9.0.4)\n",
            "Requirement already satisfied: typing-extensions in /usr/local/lib/python3.10/dist-packages (from pyee==9.0.4->playwright) (4.7.1)\n"
          ]
        }
      ],
      "source": [
        "!pip install playwright\n",
        "!playwright install"
      ]
    },
    {
      "cell_type": "code",
      "execution_count": 25,
      "metadata": {
        "id": "3VpwmTxCGRw5"
      },
      "outputs": [],
      "source": [
        "import requests\n",
        "from bs4 import BeautifulSoup\n",
        "from PIL import Image\n",
        "from io import BytesIO\n",
        "import random\n",
        "import os\n",
        "import numpy as np\n",
        "from playwright.async_api import async_playwright"
      ]
    },
    {
      "cell_type": "code",
      "execution_count": 26,
      "metadata": {
        "id": "ZBBALlpUJP8m"
      },
      "outputs": [],
      "source": [
        "def match_span_class(tag):\n",
        "    parent_span = tag.find_parent('span')\n",
        "    if parent_span is not None:\n",
        "        span_classes = parent_span.get('class', [])\n",
        "        return any(cls.startswith('SummaryItemResponsive') for cls in span_classes)\n",
        "    return False"
      ]
    },
    {
      "cell_type": "code",
      "execution_count": 27,
      "metadata": {
        "colab": {
          "base_uri": "https://localhost:8080/"
        },
        "id": "ikhfvYqFMT3X",
        "outputId": "94575169-f1d4-4fd4-9455-11efdcddd1d4"
      },
      "outputs": [
        {
          "output_type": "stream",
          "name": "stdout",
          "text": [
            "Mounted at /content/drive\n"
          ]
        }
      ],
      "source": [
        "from google.colab import drive\n",
        "drive.mount('/content/drive', force_remount=True)"
      ]
    },
    {
      "cell_type": "code",
      "execution_count": 28,
      "metadata": {
        "id": "Iw0vXrmNSAbS"
      },
      "outputs": [],
      "source": [
        "faces = ['smiling-person', 'anger-person', 'disgust-person', 'fear-person', 'surprise-person' ]"
      ]
    },
    {
      "cell_type": "code",
      "execution_count": 29,
      "metadata": {
        "id": "amCxwjtGIMNR"
      },
      "outputs": [],
      "source": [
        "data_path = 'drive/MyDrive/faces/data'"
      ]
    },
    {
      "cell_type": "code",
      "execution_count": 30,
      "metadata": {
        "id": "IG63DDCbHtDY"
      },
      "outputs": [],
      "source": [
        "def get_image(photo_url, path, file_name, face):\n",
        "  image_response = requests.get(photo_url)\n",
        "  image_content = image_response.content\n",
        "  img = Image.open(BytesIO(image_content))\n",
        "  if img.mode == 'RGB':\n",
        "    os.makedirs(f'{path}/{face}', exist_ok=True)\n",
        "    img.save(f'{path}/{face}/{file_name}', 'png')"
      ]
    },
    {
      "cell_type": "code",
      "execution_count": 31,
      "metadata": {
        "id": "dPixfrVTJdUi"
      },
      "outputs": [],
      "source": [
        "def get_photos(source, path, face):\n",
        "  for image in source:\n",
        "    http = image.find('https://')\n",
        "    if http != -1:\n",
        "      file_name = image.split('/')[-1]\n",
        "      get_image(image, path, file_name, face)"
      ]
    },
    {
      "cell_type": "code",
      "execution_count": 18,
      "metadata": {
        "colab": {
          "base_uri": "https://localhost:8080/"
        },
        "id": "cHUgnsq3Irra",
        "outputId": "e9bf09c0-03c8-4e12-ab6a-f2c168a64882"
      },
      "outputs": [
        {
          "output_type": "stream",
          "name": "stdout",
          "text": [
            "Downloaded 61 photos.\n",
            "60 photos in smiling-person folder.\n",
            "Downloaded 61 photos.\n",
            "57 photos in anger-person folder.\n",
            "Downloaded 61 photos.\n",
            "59 photos in disgust-person folder.\n",
            "Downloaded 61 photos.\n",
            "60 photos in fear-person folder.\n",
            "Downloaded 61 photos.\n",
            "60 photos in surprise-person folder.\n"
          ]
        }
      ],
      "source": [
        "#pages implicated by hand\n",
        "images = []\n",
        "for face in faces:\n",
        "  modified_face = face.replace('-', '%20')\n",
        "  async def run():\n",
        "    async with async_playwright() as p:\n",
        "      browser = await p.chromium.launch()\n",
        "      page = await browser.new_page()\n",
        "      await page.goto(f'https://www.istockphoto.com/pl/search/2/image?page=1&phrase={modified_face}') #input pages from 1-100\n",
        "      # Get the page content\n",
        "      content = await page.content()\n",
        "      await browser.close()\n",
        "      # Use Beautiful Soup to parse the HTML\n",
        "      soup = BeautifulSoup(content, 'html.parser')\n",
        "      # Find all image tags and add their src attributes to the image_sources list\n",
        "      all_images = soup.find_all('img')\n",
        "      images_in_span = soup.find_all(lambda tag: tag.name == 'img' and match_span_class(tag))\n",
        "      interesting_images = [img for img in all_images if img not in images_in_span]\n",
        "      for img in interesting_images:\n",
        "        src = img.get('src')\n",
        "        images.append(src)\n",
        "      get_photos(images, data_path, face)\n",
        "      print(f\"Downloaded {len(images)} photos.\")\n",
        "      print(f\"{len(os.listdir(f'{data_path}/{face}'))} photos in {face} folder.\")\n",
        "  images = []\n",
        "  await run()"
      ]
    },
    {
      "cell_type": "markdown",
      "source": [
        "# **2. Face detection**"
      ],
      "metadata": {
        "id": "jk-H8KwmC2im"
      }
    },
    {
      "cell_type": "code",
      "source": [
        "face_classifier = cv2.CascadeClassifier(cv2.data.haarcascades + \"haarcascade_frontalface_default.xml\")\n",
        "def face_recognition(photo, array):\n",
        "  image = cv2.imread(photo)\n",
        "  gray_image = cv2.cvtColor(image, cv2.COLOR_BGR2GRAY)\n",
        "  face = face_classifier.detectMultiScale(gray_image, 1.3, 4)\n",
        "  if len(face) > 0:\n",
        "   for i, (x, y, w, h) in enumerate(face):\n",
        "      cv2.rectangle(image, (x, y), (x + w, y + h), (0, 255, 255), 2)\n",
        "      face = image[y:y + h, x:x + w]\n",
        "      array.append(face)"
      ],
      "metadata": {
        "id": "TYSgefk_DKDB"
      },
      "execution_count": 32,
      "outputs": []
    },
    {
      "cell_type": "code",
      "source": [
        "smiling_faces = []\n",
        "anger_faces = []\n",
        "disgust_faces = []\n",
        "fear_faces = []\n",
        "surprise_faces  = []"
      ],
      "metadata": {
        "id": "so5Ibc8OC18d"
      },
      "execution_count": 33,
      "outputs": []
    },
    {
      "cell_type": "code",
      "source": [
        "def faces_array(array, photos, path):\n",
        "  files_folder = os.listdir(f'{path}/{photos}')\n",
        "  print(f'{path}/{photos}')\n",
        "  for i in range(0, len(files_folder)):\n",
        "    img_path = f'{path}/{photos}/{files_folder[i]}'\n",
        "    face_recognition(img_path, array)"
      ],
      "metadata": {
        "id": "FAyt3FD_FVW5"
      },
      "execution_count": 34,
      "outputs": []
    },
    {
      "cell_type": "code",
      "source": [
        "faces_array(smiling_faces, \"smiling-person\", data_path)\n",
        "faces_array(anger_faces, \"anger-person\", data_path)\n",
        "faces_array(disgust_faces, \"disgust-person\", data_path)\n",
        "faces_array(fear_faces, \"fear-person\", data_path)\n",
        "faces_array(surprise_faces, \"surprise-person\", data_path)"
      ],
      "metadata": {
        "colab": {
          "base_uri": "https://localhost:8080/"
        },
        "id": "8sMXTPc8FYV_",
        "outputId": "d1cf6e93-9e9f-4d71-9f9d-a13d01519c28"
      },
      "execution_count": 35,
      "outputs": [
        {
          "output_type": "stream",
          "name": "stdout",
          "text": [
            "drive/MyDrive/faces/data/smiling-person\n",
            "drive/MyDrive/faces/data/anger-person\n",
            "drive/MyDrive/faces/data/disgust-person\n",
            "drive/MyDrive/faces/data/fear-person\n",
            "drive/MyDrive/faces/data/surprise-person\n"
          ]
        }
      ]
    },
    {
      "cell_type": "code",
      "source": [
        "recognized_faces = {\n",
        "    'smiling-face': smiling_faces,\n",
        "    'anger-face' : anger_faces,\n",
        "    'disgust-face' : disgust_faces,\n",
        "    'fear-face' : fear_faces,\n",
        "    'surprise-face' : surprise_faces\n",
        "}"
      ],
      "metadata": {
        "id": "iW9Syj6RFaDw"
      },
      "execution_count": 36,
      "outputs": []
    },
    {
      "cell_type": "code",
      "source": [
        "faces = []\n",
        "amount = []\n",
        "\n",
        "for k in recognized_faces:\n",
        "  faces.append(k)\n",
        "  amount.append(len(recognized_faces[k]))"
      ],
      "metadata": {
        "id": "EjnxJ6bQFbr4"
      },
      "execution_count": 37,
      "outputs": []
    },
    {
      "cell_type": "code",
      "source": [
        "fig, ax = plt.subplots(figsize = (8,6))\n",
        "colors = ['wheat', 'chocolate', 'lightskyblue','teal', 'gold']\n",
        "ax.bar(faces, amount, color=colors, width=0.6)\n",
        "ax.set_title('FACES')\n",
        "ax.set_ylabel('Amount')\n",
        "\n",
        "for i in range(0, len(faces)):\n",
        "  ax.text(faces[i], amount[i] - 5, horizontalalignment='center', s=amount[i] )"
      ],
      "metadata": {
        "colab": {
          "base_uri": "https://localhost:8080/",
          "height": 545
        },
        "id": "815QJPiCFdzK",
        "outputId": "89bd85f0-6627-4d38-ff64-77a8c05f5c9d"
      },
      "execution_count": 40,
      "outputs": [
        {
          "output_type": "display_data",
          "data": {
            "text/plain": [
              "<Figure size 800x600 with 1 Axes>"
            ],
            "image/png": "[encoded data removed]"
          },
          "metadata": {}
        }
      ]
    },
    {
      "cell_type": "markdown",
      "source": [
        "# **3. Save faces**"
      ],
      "metadata": {
        "id": "60fJOK-lFocC"
      }
    },
    {
      "cell_type": "code",
      "source": [
        "faces_path = 'drive/MyDrive/recognized_faces'"
      ],
      "metadata": {
        "id": "O-E2ifHWFn5C"
      },
      "execution_count": 41,
      "outputs": []
    },
    {
      "cell_type": "code",
      "source": [
        "from PIL import Image\n",
        "\n",
        "for face in recognized_faces:\n",
        "  os.makedirs(f'{faces_path}', exist_ok=True)\n",
        "  os.makedirs(f'{faces_path}/{face}', exist_ok=True)\n",
        "  directory = f'drive/MyDrive/recognized_faces/{face}'\n",
        "  for i in range(0, len(directory)):\n",
        "    img = Image.fromarray(recognized_faces[face][i])\n",
        "    filename = f'{face}_{i}'\n",
        "    folder = f'drive/MyDrive/recognized_faces/{face}/{filename}.jpeg'\n",
        "    img.save(folder)"
      ],
      "metadata": {
        "colab": {
          "base_uri": "https://localhost:8080/",
          "height": 246
        },
        "id": "xPtLDAiHFujK",
        "outputId": "65fe1a12-11f0-44aa-a8a7-6c8f69dd03f5"
      },
      "execution_count": 42,
      "outputs": [
        {
          "output_type": "error",
          "ename": "IndexError",
          "evalue": "ignored",
          "traceback": [
            "\u001b[0;31m---------------------------------------------------------------------------\u001b[0m",
            "\u001b[0;31mIndexError\u001b[0m                                Traceback (most recent call last)",
            "\u001b[0;32m<ipython-input-42-83ad70c6b1ef>\u001b[0m in \u001b[0;36m<cell line: 3>\u001b[0;34m()\u001b[0m\n\u001b[1;32m      6\u001b[0m   \u001b[0mdirectory\u001b[0m \u001b[0;34m=\u001b[0m \u001b[0;34mf'drive/MyDrive/recognized_faces/{face}'\u001b[0m\u001b[0;34m\u001b[0m\u001b[0;34m\u001b[0m\u001b[0m\n\u001b[1;32m      7\u001b[0m   \u001b[0;32mfor\u001b[0m \u001b[0mi\u001b[0m \u001b[0;32min\u001b[0m \u001b[0mrange\u001b[0m\u001b[0;34m(\u001b[0m\u001b[0;36m0\u001b[0m\u001b[0;34m,\u001b[0m \u001b[0mlen\u001b[0m\u001b[0;34m(\u001b[0m\u001b[0mdirectory\u001b[0m\u001b[0;34m)\u001b[0m\u001b[0;34m)\u001b[0m\u001b[0;34m:\u001b[0m\u001b[0;34m\u001b[0m\u001b[0;34m\u001b[0m\u001b[0m\n\u001b[0;32m----> 8\u001b[0;31m     \u001b[0mimg\u001b[0m \u001b[0;34m=\u001b[0m \u001b[0mImage\u001b[0m\u001b[0;34m.\u001b[0m\u001b[0mfromarray\u001b[0m\u001b[0;34m(\u001b[0m\u001b[0mrecognized_faces\u001b[0m\u001b[0;34m[\u001b[0m\u001b[0mface\u001b[0m\u001b[0;34m]\u001b[0m\u001b[0;34m[\u001b[0m\u001b[0mi\u001b[0m\u001b[0;34m]\u001b[0m\u001b[0;34m)\u001b[0m\u001b[0;34m\u001b[0m\u001b[0;34m\u001b[0m\u001b[0m\n\u001b[0m\u001b[1;32m      9\u001b[0m     \u001b[0mfilename\u001b[0m \u001b[0;34m=\u001b[0m \u001b[0;34mf'{face}_{i}'\u001b[0m\u001b[0;34m\u001b[0m\u001b[0;34m\u001b[0m\u001b[0m\n\u001b[1;32m     10\u001b[0m     \u001b[0mfolder\u001b[0m \u001b[0;34m=\u001b[0m \u001b[0;34mf'drive/MyDrive/recognized_faces/{face}/{filename}.jpeg'\u001b[0m\u001b[0;34m\u001b[0m\u001b[0;34m\u001b[0m\u001b[0m\n",
            "\u001b[0;31mIndexError\u001b[0m: list index out of range"
          ]
        }
      ]
    }
  ],
  "metadata": {
    "colab": {
      "provenance": [],
      "include_colab_link": true
    },
    "kernelspec": {
      "display_name": "Python 3",
      "name": "python3"
    },
    "language_info": {
      "name": "python"
    }
  },
  "nbformat": 4,
  "nbformat_minor": 0
}