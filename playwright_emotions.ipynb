{
  "cells": [
    {
      "cell_type": "markdown",
      "metadata": {
        "id": "view-in-github",
        "colab_type": "text"
      },
      "source": [
        "<a href=\"https://colab.research.google.com/github/KamilShape/emotion_recognition/blob/main/playwright_emotions.ipynb\" target=\"_parent\"><img src=\"https://colab.research.google.com/assets/colab-badge.svg\" alt=\"Open In Colab\"/></a>"
      ]
    },
    {
      "cell_type": "markdown",
      "source": [
        "# **1.Photos download**"
      ],
      "metadata": {
        "id": "IXpbHwmDBlde"
      }
    },
    {
      "cell_type": "code",
      "source": [
        "import cv2\n",
        "import pandas as pd\n",
        "import matplotlib.pyplot as plt\n",
        "import seaborn as sns\n",
        "import numpy as np"
      ],
      "metadata": {
        "id": "-q_dA1fGDobc"
      },
      "execution_count": 1,
      "outputs": []
    },
    {
      "cell_type": "code",
      "execution_count": 2,
      "metadata": {
        "colab": {
          "base_uri": "https://localhost:8080/"
        },
        "id": "puQa3ZJ96hOw",
        "outputId": "b0882605-28b7-4e78-8908-93e6636d6150"
      },
      "outputs": [
        {
          "output_type": "stream",
          "name": "stdout",
          "text": [
            "Collecting playwright\n",
            "  Downloading playwright-1.36.0-py3-none-manylinux1_x86_64.whl (35.3 MB)\n",
            "\u001b[2K     \u001b[90m━━━━━━━━━━━━━━━━━━━━━━━━━━━━━━━━━━━━━━━━\u001b[0m \u001b[32m35.3/35.3 MB\u001b[0m \u001b[31m41.3 MB/s\u001b[0m eta \u001b[36m0:00:00\u001b[0m\n",
            "\u001b[?25hRequirement already satisfied: greenlet==2.0.2 in /usr/local/lib/python3.10/dist-packages (from playwright) (2.0.2)\n",
            "Collecting pyee==9.0.4 (from playwright)\n",
            "  Downloading pyee-9.0.4-py2.py3-none-any.whl (14 kB)\n",
            "Requirement already satisfied: typing-extensions in /usr/local/lib/python3.10/dist-packages (from pyee==9.0.4->playwright) (4.7.1)\n",
            "Installing collected packages: pyee, playwright\n",
            "Successfully installed playwright-1.36.0 pyee-9.0.4\n",
            "Downloading Chromium 115.0.5790.75 (playwright build v1071)\u001b[2m from https://playwright.azureedge.net/builds/chromium/1071/chromium-linux.zip\u001b[22m\n",
            "\u001b[1G146.4 Mb [] 0% 0.0s\u001b[0K\u001b[1G146.4 Mb [] 0% 28.2s\u001b[0K\u001b[1G146.4 Mb [] 0% 22.8s\u001b[0K\u001b[1G146.4 Mb [] 0% 9.5s\u001b[0K\u001b[1G146.4 Mb [] 1% 5.7s\u001b[0K\u001b[1G146.4 Mb [] 2% 3.6s\u001b[0K\u001b[1G146.4 Mb [] 2% 3.4s\u001b[0K\u001b[1G146.4 Mb [] 3% 3.1s\u001b[0K\u001b[1G146.4 Mb [] 4% 3.0s\u001b[0K\u001b[1G146.4 Mb [] 4% 4.2s\u001b[0K\u001b[1G146.4 Mb [] 4% 5.2s\u001b[0K\u001b[1G146.4 Mb [] 4% 5.5s\u001b[0K\u001b[1G146.4 Mb [] 4% 5.2s\u001b[0K\u001b[1G146.4 Mb [] 5% 4.6s\u001b[0K\u001b[1G146.4 Mb [] 6% 4.0s\u001b[0K\u001b[1G146.4 Mb [] 7% 3.8s\u001b[0K\u001b[1G146.4 Mb [] 8% 3.7s\u001b[0K\u001b[1G146.4 Mb [] 8% 3.6s\u001b[0K\u001b[1G146.4 Mb [] 10% 3.3s\u001b[0K\u001b[1G146.4 Mb [] 10% 3.4s\u001b[0K\u001b[1G146.4 Mb [] 11% 3.3s\u001b[0K\u001b[1G146.4 Mb [] 12% 3.2s\u001b[0K\u001b[1G146.4 Mb [] 13% 3.1s\u001b[0K\u001b[1G146.4 Mb [] 14% 2.9s\u001b[0K\u001b[1G146.4 Mb [] 16% 2.7s\u001b[0K\u001b[1G146.4 Mb [] 17% 2.7s\u001b[0K\u001b[1G146.4 Mb [] 17% 2.6s\u001b[0K\u001b[1G146.4 Mb [] 18% 2.6s\u001b[0K\u001b[1G146.4 Mb [] 19% 2.5s\u001b[0K\u001b[1G146.4 Mb [] 19% 2.6s\u001b[0K\u001b[1G146.4 Mb [] 20% 2.6s\u001b[0K\u001b[1G146.4 Mb [] 21% 2.5s\u001b[0K\u001b[1G146.4 Mb [] 22% 2.5s\u001b[0K\u001b[1G146.4 Mb [] 23% 2.4s\u001b[0K\u001b[1G146.4 Mb [] 24% 2.3s\u001b[0K\u001b[1G146.4 Mb [] 25% 2.3s\u001b[0K\u001b[1G146.4 Mb [] 26% 2.2s\u001b[0K\u001b[1G146.4 Mb [] 27% 2.2s\u001b[0K\u001b[1G146.4 Mb [] 28% 2.2s\u001b[0K\u001b[1G146.4 Mb [] 29% 2.1s\u001b[0K\u001b[1G146.4 Mb [] 31% 2.0s\u001b[0K\u001b[1G146.4 Mb [] 32% 1.9s\u001b[0K\u001b[1G146.4 Mb [] 33% 1.9s\u001b[0K\u001b[1G146.4 Mb [] 34% 1.9s\u001b[0K\u001b[1G146.4 Mb [] 35% 1.8s\u001b[0K\u001b[1G146.4 Mb [] 36% 1.8s\u001b[0K\u001b[1G146.4 Mb [] 36% 1.9s\u001b[0K\u001b[1G146.4 Mb [] 37% 1.8s\u001b[0K\u001b[1G146.4 Mb [] 39% 1.7s\u001b[0K\u001b[1G146.4 Mb [] 40% 1.6s\u001b[0K\u001b[1G146.4 Mb [] 41% 1.6s\u001b[0K\u001b[1G146.4 Mb [] 42% 1.6s\u001b[0K\u001b[1G146.4 Mb [] 42% 1.7s\u001b[0K\u001b[1G146.4 Mb [] 43% 1.6s\u001b[0K\u001b[1G146.4 Mb [] 44% 1.6s\u001b[0K\u001b[1G146.4 Mb [] 45% 1.6s\u001b[0K\u001b[1G146.4 Mb [] 46% 1.5s\u001b[0K\u001b[1G146.4 Mb [] 47% 1.5s\u001b[0K\u001b[1G146.4 Mb [] 48% 1.5s\u001b[0K\u001b[1G146.4 Mb [] 49% 1.5s\u001b[0K\u001b[1G146.4 Mb [] 50% 1.4s\u001b[0K\u001b[1G146.4 Mb [] 51% 1.4s\u001b[0K\u001b[1G146.4 Mb [] 52% 1.3s\u001b[0K\u001b[1G146.4 Mb [] 53% 1.3s\u001b[0K\u001b[1G146.4 Mb [] 54% 1.3s\u001b[0K\u001b[1G146.4 Mb [] 55% 1.3s\u001b[0K\u001b[1G146.4 Mb [] 56% 1.3s\u001b[0K\u001b[1G146.4 Mb [] 56% 1.2s\u001b[0K\u001b[1G146.4 Mb [] 56% 1.3s\u001b[0K\u001b[1G146.4 Mb [] 57% 1.2s\u001b[0K\u001b[1G146.4 Mb [] 58% 1.2s\u001b[0K\u001b[1G146.4 Mb [] 59% 1.2s\u001b[0K\u001b[1G146.4 Mb [] 60% 1.1s\u001b[0K\u001b[1G146.4 Mb [] 61% 1.1s\u001b[0K\u001b[1G146.4 Mb [] 63% 1.1s\u001b[0K\u001b[1G146.4 Mb [] 64% 1.0s\u001b[0K\u001b[1G146.4 Mb [] 65% 1.0s\u001b[0K\u001b[1G146.4 Mb [] 67% 0.9s\u001b[0K\u001b[1G146.4 Mb [] 68% 0.9s\u001b[0K\u001b[1G146.4 Mb [] 69% 0.8s\u001b[0K\u001b[1G146.4 Mb [] 71% 0.8s\u001b[0K\u001b[1G146.4 Mb [] 72% 0.7s\u001b[0K\u001b[1G146.4 Mb [] 74% 0.7s\u001b[0K\u001b[1G146.4 Mb [] 75% 0.7s\u001b[0K\u001b[1G146.4 Mb [] 76% 0.6s\u001b[0K\u001b[1G146.4 Mb [] 77% 0.6s\u001b[0K\u001b[1G146.4 Mb [] 78% 0.6s\u001b[0K\u001b[1G146.4 Mb [] 79% 0.5s\u001b[0K\u001b[1G146.4 Mb [] 81% 0.5s\u001b[0K\u001b[1G146.4 Mb [] 82% 0.5s\u001b[0K\u001b[1G146.4 Mb [] 83% 0.4s\u001b[0K\u001b[1G146.4 Mb [] 84% 0.4s\u001b[0K\u001b[1G146.4 Mb [] 85% 0.4s\u001b[0K\u001b[1G146.4 Mb [] 86% 0.4s\u001b[0K\u001b[1G146.4 Mb [] 86% 0.3s\u001b[0K\u001b[1G146.4 Mb [] 87% 0.3s\u001b[0K\u001b[1G146.4 Mb [] 88% 0.3s\u001b[0K\u001b[1G146.4 Mb [] 89% 0.3s\u001b[0K\u001b[1G146.4 Mb [] 90% 0.2s\u001b[0K\u001b[1G146.4 Mb [] 91% 0.2s\u001b[0K\u001b[1G146.4 Mb [] 92% 0.2s\u001b[0K\u001b[1G146.4 Mb [] 93% 0.2s\u001b[0K\u001b[1G146.4 Mb [] 94% 0.1s\u001b[0K\u001b[1G146.4 Mb [] 95% 0.1s\u001b[0K\u001b[1G146.4 Mb [] 96% 0.1s\u001b[0K\u001b[1G146.4 Mb [] 97% 0.1s\u001b[0K\u001b[1G146.4 Mb [] 98% 0.0s\u001b[0K\u001b[1G146.4 Mb [] 99% 0.0s\u001b[0K\u001b[1G146.4 Mb [] 100% 0.0s\u001b[0K\n",
            "Chromium 115.0.5790.75 (playwright build v1071) downloaded to /root/.cache/ms-playwright/chromium-1071\n",
            "Downloading FFMPEG playwright build v1009\u001b[2m from https://playwright.azureedge.net/builds/ffmpeg/1009/ffmpeg-linux.zip\u001b[22m\n",
            "\u001b[1G2.6 Mb [] 0% 0.0s\u001b[0K\u001b[1G2.6 Mb [] 4% 0.4s\u001b[0K\u001b[1G2.6 Mb [] 18% 0.2s\u001b[0K\u001b[1G2.6 Mb [] 54% 0.0s\u001b[0K\u001b[1G2.6 Mb [] 100% 0.0s\u001b[0K\n",
            "FFMPEG playwright build v1009 downloaded to /root/.cache/ms-playwright/ffmpeg-1009\n",
            "Downloading Firefox 115.0 (playwright build v1419)\u001b[2m from https://playwright.azureedge.net/builds/firefox/1419/firefox-ubuntu-22.04.zip\u001b[22m\n",
            "\u001b[1G79.1 Mb [] 0% 0.0s\u001b[0K\u001b[1G79.1 Mb [] 0% 13.6s\u001b[0K\u001b[1G79.1 Mb [] 0% 10.1s\u001b[0K\u001b[1G79.1 Mb [] 1% 4.2s\u001b[0K\u001b[1G79.1 Mb [] 2% 2.7s\u001b[0K\u001b[1G79.1 Mb [] 3% 2.0s\u001b[0K\u001b[1G79.1 Mb [] 5% 1.7s\u001b[0K\u001b[1G79.1 Mb [] 6% 1.5s\u001b[0K\u001b[1G79.1 Mb [] 8% 1.4s\u001b[0K\u001b[1G79.1 Mb [] 9% 1.3s\u001b[0K\u001b[1G79.1 Mb [] 11% 1.2s\u001b[0K\u001b[1G79.1 Mb [] 13% 1.1s\u001b[0K\u001b[1G79.1 Mb [] 15% 1.0s\u001b[0K\u001b[1G79.1 Mb [] 16% 1.0s\u001b[0K\u001b[1G79.1 Mb [] 18% 1.0s\u001b[0K\u001b[1G79.1 Mb [] 19% 1.0s\u001b[0K\u001b[1G79.1 Mb [] 21% 1.0s\u001b[0K\u001b[1G79.1 Mb [] 23% 0.9s\u001b[0K\u001b[1G79.1 Mb [] 25% 0.8s\u001b[0K\u001b[1G79.1 Mb [] 27% 0.8s\u001b[0K\u001b[1G79.1 Mb [] 30% 0.8s\u001b[0K\u001b[1G79.1 Mb [] 32% 0.7s\u001b[0K\u001b[1G79.1 Mb [] 35% 0.7s\u001b[0K\u001b[1G79.1 Mb [] 37% 0.6s\u001b[0K\u001b[1G79.1 Mb [] 38% 0.6s\u001b[0K\u001b[1G79.1 Mb [] 40% 0.6s\u001b[0K\u001b[1G79.1 Mb [] 43% 0.6s\u001b[0K\u001b[1G79.1 Mb [] 45% 0.6s\u001b[0K\u001b[1G79.1 Mb [] 46% 0.5s\u001b[0K\u001b[1G79.1 Mb [] 49% 0.5s\u001b[0K\u001b[1G79.1 Mb [] 52% 0.5s\u001b[0K\u001b[1G79.1 Mb [] 54% 0.4s\u001b[0K\u001b[1G79.1 Mb [] 55% 0.4s\u001b[0K\u001b[1G79.1 Mb [] 57% 0.4s\u001b[0K\u001b[1G79.1 Mb [] 59% 0.4s\u001b[0K\u001b[1G79.1 Mb [] 61% 0.4s\u001b[0K\u001b[1G79.1 Mb [] 63% 0.3s\u001b[0K\u001b[1G79.1 Mb [] 66% 0.3s\u001b[0K\u001b[1G79.1 Mb [] 68% 0.3s\u001b[0K\u001b[1G79.1 Mb [] 71% 0.3s\u001b[0K\u001b[1G79.1 Mb [] 74% 0.2s\u001b[0K\u001b[1G79.1 Mb [] 75% 0.2s\u001b[0K\u001b[1G79.1 Mb [] 77% 0.2s\u001b[0K\u001b[1G79.1 Mb [] 80% 0.2s\u001b[0K\u001b[1G79.1 Mb [] 83% 0.1s\u001b[0K\u001b[1G79.1 Mb [] 86% 0.1s\u001b[0K\u001b[1G79.1 Mb [] 87% 0.1s\u001b[0K\u001b[1G79.1 Mb [] 90% 0.1s\u001b[0K\u001b[1G79.1 Mb [] 92% 0.1s\u001b[0K\u001b[1G79.1 Mb [] 95% 0.0s\u001b[0K\u001b[1G79.1 Mb [] 98% 0.0s\u001b[0K\u001b[1G79.1 Mb [] 100% 0.0s\u001b[0K\n",
            "Firefox 115.0 (playwright build v1419) downloaded to /root/.cache/ms-playwright/firefox-1419\n",
            "Downloading Webkit 17.0 (playwright build v1869)\u001b[2m from https://playwright.azureedge.net/builds/webkit/1869/webkit-ubuntu-22.04.zip\u001b[22m\n",
            "\u001b[1G83.9 Mb [] 0% 0.0s\u001b[0K\u001b[1G83.9 Mb [] 0% 20.6s\u001b[0K\u001b[1G83.9 Mb [] 0% 12.3s\u001b[0K\u001b[1G83.9 Mb [] 0% 6.5s\u001b[0K\u001b[1G83.9 Mb [] 1% 3.7s\u001b[0K\u001b[1G83.9 Mb [] 3% 2.8s\u001b[0K\u001b[1G83.9 Mb [] 4% 2.0s\u001b[0K\u001b[1G83.9 Mb [] 6% 1.8s\u001b[0K\u001b[1G83.9 Mb [] 7% 1.6s\u001b[0K\u001b[1G83.9 Mb [] 8% 1.6s\u001b[0K\u001b[1G83.9 Mb [] 9% 1.5s\u001b[0K\u001b[1G83.9 Mb [] 12% 1.3s\u001b[0K\u001b[1G83.9 Mb [] 14% 1.2s\u001b[0K\u001b[1G83.9 Mb [] 15% 1.1s\u001b[0K\u001b[1G83.9 Mb [] 17% 1.1s\u001b[0K\u001b[1G83.9 Mb [] 17% 1.2s\u001b[0K\u001b[1G83.9 Mb [] 19% 1.1s\u001b[0K\u001b[1G83.9 Mb [] 21% 1.0s\u001b[0K\u001b[1G83.9 Mb [] 23% 1.0s\u001b[0K\u001b[1G83.9 Mb [] 24% 1.0s\u001b[0K\u001b[1G83.9 Mb [] 26% 0.9s\u001b[0K\u001b[1G83.9 Mb [] 29% 0.9s\u001b[0K\u001b[1G83.9 Mb [] 30% 0.9s\u001b[0K\u001b[1G83.9 Mb [] 33% 0.8s\u001b[0K\u001b[1G83.9 Mb [] 34% 0.8s\u001b[0K\u001b[1G83.9 Mb [] 37% 0.7s\u001b[0K\u001b[1G83.9 Mb [] 40% 0.7s\u001b[0K\u001b[1G83.9 Mb [] 42% 0.6s\u001b[0K\u001b[1G83.9 Mb [] 45% 0.6s\u001b[0K\u001b[1G83.9 Mb [] 48% 0.5s\u001b[0K\u001b[1G83.9 Mb [] 50% 0.5s\u001b[0K\u001b[1G83.9 Mb [] 53% 0.5s\u001b[0K\u001b[1G83.9 Mb [] 54% 0.5s\u001b[0K\u001b[1G83.9 Mb [] 56% 0.5s\u001b[0K\u001b[1G83.9 Mb [] 57% 0.4s\u001b[0K\u001b[1G83.9 Mb [] 58% 0.4s\u001b[0K\u001b[1G83.9 Mb [] 60% 0.4s\u001b[0K\u001b[1G83.9 Mb [] 61% 0.4s\u001b[0K\u001b[1G83.9 Mb [] 63% 0.4s\u001b[0K\u001b[1G83.9 Mb [] 65% 0.4s\u001b[0K\u001b[1G83.9 Mb [] 66% 0.4s\u001b[0K\u001b[1G83.9 Mb [] 68% 0.3s\u001b[0K\u001b[1G83.9 Mb [] 71% 0.3s\u001b[0K\u001b[1G83.9 Mb [] 72% 0.3s\u001b[0K\u001b[1G83.9 Mb [] 74% 0.3s\u001b[0K\u001b[1G83.9 Mb [] 76% 0.2s\u001b[0K\u001b[1G83.9 Mb [] 78% 0.2s\u001b[0K\u001b[1G83.9 Mb [] 80% 0.2s\u001b[0K\u001b[1G83.9 Mb [] 81% 0.2s\u001b[0K\u001b[1G83.9 Mb [] 83% 0.2s\u001b[0K\u001b[1G83.9 Mb [] 85% 0.1s\u001b[0K\u001b[1G83.9 Mb [] 87% 0.1s\u001b[0K\u001b[1G83.9 Mb [] 88% 0.1s\u001b[0K\u001b[1G83.9 Mb [] 89% 0.1s\u001b[0K\u001b[1G83.9 Mb [] 91% 0.1s\u001b[0K\u001b[1G83.9 Mb [] 94% 0.1s\u001b[0K\u001b[1G83.9 Mb [] 96% 0.0s\u001b[0K\u001b[1G83.9 Mb [] 97% 0.0s\u001b[0K\u001b[1G83.9 Mb [] 98% 0.0s\u001b[0K\u001b[1G83.9 Mb [] 99% 0.0s\u001b[0K\u001b[1G83.9 Mb [] 100% 0.0s\u001b[0K\n",
            "Webkit 17.0 (playwright build v1869) downloaded to /root/.cache/ms-playwright/webkit-1869\n"
          ]
        }
      ],
      "source": [
        "!pip install playwright\n",
        "!playwright install"
      ]
    },
    {
      "cell_type": "code",
      "execution_count": 3,
      "metadata": {
        "id": "3VpwmTxCGRw5"
      },
      "outputs": [],
      "source": [
        "import requests\n",
        "from bs4 import BeautifulSoup\n",
        "from PIL import Image\n",
        "from io import BytesIO\n",
        "import random\n",
        "import os\n",
        "import numpy as np\n",
        "from playwright.async_api import async_playwright"
      ]
    },
    {
      "cell_type": "code",
      "execution_count": 4,
      "metadata": {
        "id": "ZBBALlpUJP8m"
      },
      "outputs": [],
      "source": [
        "def match_span_class(tag):\n",
        "    parent_span = tag.find_parent('span')\n",
        "    if parent_span is not None:\n",
        "        span_classes = parent_span.get('class', [])\n",
        "        return any(cls.startswith('SummaryItemResponsive') for cls in span_classes)\n",
        "    return False"
      ]
    },
    {
      "cell_type": "code",
      "execution_count": 5,
      "metadata": {
        "colab": {
          "base_uri": "https://localhost:8080/"
        },
        "id": "ikhfvYqFMT3X",
        "outputId": "de8bd4a5-ed96-434c-c3f5-513fbb4af7a6"
      },
      "outputs": [
        {
          "output_type": "stream",
          "name": "stdout",
          "text": [
            "Mounted at /content/drive\n"
          ]
        }
      ],
      "source": [
        "from google.colab import drive\n",
        "drive.mount('/content/drive', force_remount=True)"
      ]
    },
    {
      "cell_type": "code",
      "execution_count": 6,
      "metadata": {
        "id": "Iw0vXrmNSAbS"
      },
      "outputs": [],
      "source": [
        "faces = ['happiness', 'sadness', 'anger' ]"
      ]
    },
    {
      "cell_type": "code",
      "execution_count": 7,
      "metadata": {
        "id": "amCxwjtGIMNR"
      },
      "outputs": [],
      "source": [
        "data_path = 'drive/MyDrive/faces/data'"
      ]
    },
    {
      "cell_type": "code",
      "execution_count": 8,
      "metadata": {
        "id": "IG63DDCbHtDY"
      },
      "outputs": [],
      "source": [
        "def get_image(photo_url, path, file_name, face):\n",
        "  image_response = requests.get(photo_url)\n",
        "  image_content = image_response.content\n",
        "  img = Image.open(BytesIO(image_content))\n",
        "  if img.mode == 'RGB':\n",
        "    os.makedirs(f'{path}/{face}', exist_ok=True)\n",
        "    img.save(f'{path}/{face}/{file_name}', 'png')"
      ]
    },
    {
      "cell_type": "code",
      "execution_count": 9,
      "metadata": {
        "id": "dPixfrVTJdUi"
      },
      "outputs": [],
      "source": [
        "def get_photos(source, path, face):\n",
        "  for image in source:\n",
        "    http = image.find('https://')\n",
        "    if http != -1:\n",
        "      file_name = image.split('/')[-1]\n",
        "      get_image(image, path, file_name, face)"
      ]
    },
    {
      "cell_type": "code",
      "execution_count": null,
      "metadata": {
        "id": "cHUgnsq3Irra"
      },
      "outputs": [],
      "source": [
        "#pages implicated by hand\n",
        "images = []\n",
        "for face in faces:\n",
        "  modified_face = face.replace('-', '%20')\n",
        "  async def run():\n",
        "    async with async_playwright() as p:\n",
        "      browser = await p.chromium.launch()\n",
        "      page = await browser.new_page()\n",
        "      await page.goto(f'https://www.istockphoto.com/pl/search/2/image?ethnicity=caucasian&numberofpeople=one&page=23&phrase={face}') #input pages from 1-100\n",
        "      # Get the page content\n",
        "      content = await page.content()\n",
        "      await browser.close()\n",
        "      # Use Beautiful Soup to parse the HTML\n",
        "      soup = BeautifulSoup(content, 'html.parser')\n",
        "      # Find all image tags and add their src attributes to the image_sources list\n",
        "      all_images = soup.find_all('img')\n",
        "      images_in_span = soup.find_all(lambda tag: tag.name == 'img' and match_span_class(tag))\n",
        "      interesting_images = [img for img in all_images if img not in images_in_span]\n",
        "      for img in interesting_images:\n",
        "        src = img.get('src')\n",
        "        images.append(src)\n",
        "      get_photos(images, data_path, face)\n",
        "      print(f\"Downloaded {len(images)} photos.\")\n",
        "      print(f\"{len(os.listdir(f'{data_path}/{face}'))} photos in {face} folder.\")\n",
        "  images = []\n",
        "  await run()"
      ]
    },
    {
      "cell_type": "markdown",
      "source": [
        "# **2. Face detection**"
      ],
      "metadata": {
        "id": "jk-H8KwmC2im"
      }
    },
    {
      "cell_type": "code",
      "source": [
        "face_classifier = cv2.CascadeClassifier(cv2.data.haarcascades + \"haarcascade_frontalface_default.xml\")\n",
        "def face_recognition(photo, array):\n",
        "  image = cv2.imread(photo)\n",
        "  gray_image = cv2.cvtColor(image, cv2.COLOR_BGR2GRAY)\n",
        "  face = face_classifier.detectMultiScale(gray_image, 1.3, 4)\n",
        "  if len(face) > 0:\n",
        "   for i, (x, y, w, h) in enumerate(face):\n",
        "      cv2.rectangle(image, (x, y), (x + w, y + h), (0, 255, 255), 2)\n",
        "      face = image[y:y + h, x:x + w]\n",
        "      array.append(face)"
      ],
      "metadata": {
        "id": "TYSgefk_DKDB"
      },
      "execution_count": 11,
      "outputs": []
    },
    {
      "cell_type": "code",
      "source": [
        "anger = []\n",
        "sadness = []\n",
        "happiness = []\n"
      ],
      "metadata": {
        "id": "so5Ibc8OC18d"
      },
      "execution_count": null,
      "outputs": []
    },
    {
      "cell_type": "code",
      "source": [
        "def faces_array(array, photos, path):\n",
        "  files_folder = os.listdir(f'{path}/{photos}')\n",
        "  print(f'{path}/{photos}')\n",
        "  for i in range(0, len(files_folder)):\n",
        "    img_path = f'{path}/{photos}/{files_folder[i]}'\n",
        "    face_recognition(img_path, array)"
      ],
      "metadata": {
        "id": "FAyt3FD_FVW5"
      },
      "execution_count": null,
      "outputs": []
    },
    {
      "cell_type": "code",
      "source": [
        "faces_array(anger, \"anger\", data_path)\n",
        "faces_array(sadness, \"sadness\", data_path)\n",
        "faces_array(happiness, \"happiness\", data_path)"
      ],
      "metadata": {
        "colab": {
          "base_uri": "https://localhost:8080/"
        },
        "id": "8sMXTPc8FYV_",
        "outputId": "071b2b1c-a501-455e-fd3d-f03ab547be51"
      },
      "execution_count": null,
      "outputs": [
        {
          "output_type": "stream",
          "name": "stdout",
          "text": [
            "drive/MyDrive/faces/data/anger\n",
            "drive/MyDrive/faces/data/sadness\n",
            "drive/MyDrive/faces/data/happiness\n"
          ]
        }
      ]
    },
    {
      "cell_type": "code",
      "source": [
        "recognized_faces = {\n",
        "    'anger': anger,\n",
        "    'sadness': sadness,\n",
        "    'happiness': happiness\n",
        "}"
      ],
      "metadata": {
        "id": "iW9Syj6RFaDw"
      },
      "execution_count": null,
      "outputs": []
    },
    {
      "cell_type": "markdown",
      "source": [
        "# **3. Save faces**"
      ],
      "metadata": {
        "id": "60fJOK-lFocC"
      }
    },
    {
      "cell_type": "code",
      "source": [
        "faces_path = 'drive/MyDrive/recognized_faces'"
      ],
      "metadata": {
        "id": "O-E2ifHWFn5C"
      },
      "execution_count": null,
      "outputs": []
    },
    {
      "cell_type": "code",
      "source": [
        "from PIL import Image\n",
        "\n",
        "for face in recognized_faces:\n",
        "  os.makedirs(f'{faces_path}', exist_ok=True)\n",
        "  os.makedirs(f'{faces_path}/{face}', exist_ok=True)\n",
        "  directory = f'drive/MyDrive/recognized_faces/{face}'\n",
        "  for i in range(0, len(recognized_faces[face])):\n",
        "    img = Image.fromarray(recognized_faces[face][i])\n",
        "    filename = f'{face}_{i}'\n",
        "    folder = f'drive/MyDrive/recognized_faces/{face}/{filename}.jpeg'\n",
        "    img.save(folder)"
      ],
      "metadata": {
        "id": "xPtLDAiHFujK"
      },
      "execution_count": null,
      "outputs": []
    }
  ],
  "metadata": {
    "colab": {
      "provenance": [],
      "include_colab_link": true
    },
    "kernelspec": {
      "display_name": "Python 3",
      "name": "python3"
    },
    "language_info": {
      "name": "python"
    }
  },
  "nbformat": 4,
  "nbformat_minor": 0
}