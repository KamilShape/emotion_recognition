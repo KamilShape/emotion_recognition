{
  "nbformat": 4,
  "nbformat_minor": 0,
  "metadata": {
    "colab": {
      "provenance": [],
      "include_colab_link": true
    },
    "kernelspec": {
      "name": "python3",
      "display_name": "Python 3"
    },
    "language_info": {
      "name": "python"
    }
  },
  "cells": [
    {
      "cell_type": "markdown",
      "metadata": {
        "id": "view-in-github",
        "colab_type": "text"
      },
      "source": [
        "<a href=\"https://colab.research.google.com/github/KamilShape/emotion_recognition/blob/main/playwright_emotions.ipynb\" target=\"_parent\"><img src=\"https://colab.research.google.com/assets/colab-badge.svg\" alt=\"Open In Colab\"/></a>"
      ]
    },
    {
      "cell_type": "code",
      "source": [
        "!pip install playwright\n",
        "!playwright install"
      ],
      "metadata": {
        "colab": {
          "base_uri": "https://localhost:8080/"
        },
        "id": "puQa3ZJ96hOw",
        "outputId": "d02fa3a2-a640-4b91-c806-cd185bc83129"
      },
      "execution_count": 2,
      "outputs": [
        {
          "output_type": "stream",
          "name": "stdout",
          "text": [
            "Collecting playwright\n",
            "  Downloading playwright-1.35.0-py3-none-manylinux1_x86_64.whl (35.3 MB)\n",
            "\u001b[2K     \u001b[90m━━━━━━━━━━━━━━━━━━━━━━━━━━━━━━━━━━━━━━━━\u001b[0m \u001b[32m35.3/35.3 MB\u001b[0m \u001b[31m46.8 MB/s\u001b[0m eta \u001b[36m0:00:00\u001b[0m\n",
            "\u001b[?25hRequirement already satisfied: greenlet==2.0.2 in /usr/local/lib/python3.10/dist-packages (from playwright) (2.0.2)\n",
            "Collecting pyee==9.0.4 (from playwright)\n",
            "  Downloading pyee-9.0.4-py2.py3-none-any.whl (14 kB)\n",
            "Requirement already satisfied: typing-extensions in /usr/local/lib/python3.10/dist-packages (from pyee==9.0.4->playwright) (4.6.3)\n",
            "Installing collected packages: pyee, playwright\n",
            "Successfully installed playwright-1.35.0 pyee-9.0.4\n",
            "Downloading Chromium 115.0.5790.24 (playwright build v1067)\u001b[2m from https://playwright.azureedge.net/builds/chromium/1067/chromium-linux.zip\u001b[22m\n",
            "\u001b[1G146.4 Mb [] 0% 0.0s\u001b[0K\u001b[1G146.4 Mb [] 0% 43.4s\u001b[0K\u001b[1G146.4 Mb [] 0% 35.3s\u001b[0K\u001b[1G146.4 Mb [] 0% 24.5s\u001b[0K\u001b[1G146.4 Mb [] 0% 16.3s\u001b[0K\u001b[1G146.4 Mb [] 1% 11.3s\u001b[0K\u001b[1G146.4 Mb [] 1% 7.9s\u001b[0K\u001b[1G146.4 Mb [] 2% 6.8s\u001b[0K\u001b[1G146.4 Mb [] 2% 5.6s\u001b[0K\u001b[1G146.4 Mb [] 3% 4.8s\u001b[0K\u001b[1G146.4 Mb [] 4% 4.3s\u001b[0K\u001b[1G146.4 Mb [] 5% 3.7s\u001b[0K\u001b[1G146.4 Mb [] 6% 3.2s\u001b[0K\u001b[1G146.4 Mb [] 7% 3.0s\u001b[0K\u001b[1G146.4 Mb [] 9% 2.6s\u001b[0K\u001b[1G146.4 Mb [] 10% 2.4s\u001b[0K\u001b[1G146.4 Mb [] 11% 2.3s\u001b[0K\u001b[1G146.4 Mb [] 13% 2.1s\u001b[0K\u001b[1G146.4 Mb [] 15% 1.9s\u001b[0K\u001b[1G146.4 Mb [] 16% 1.8s\u001b[0K\u001b[1G146.4 Mb [] 17% 1.8s\u001b[0K\u001b[1G146.4 Mb [] 19% 1.7s\u001b[0K\u001b[1G146.4 Mb [] 20% 1.6s\u001b[0K\u001b[1G146.4 Mb [] 21% 1.5s\u001b[0K\u001b[1G146.4 Mb [] 23% 1.4s\u001b[0K\u001b[1G146.4 Mb [] 25% 1.4s\u001b[0K\u001b[1G146.4 Mb [] 26% 1.3s\u001b[0K\u001b[1G146.4 Mb [] 27% 1.3s\u001b[0K\u001b[1G146.4 Mb [] 28% 1.3s\u001b[0K\u001b[1G146.4 Mb [] 29% 1.3s\u001b[0K\u001b[1G146.4 Mb [] 30% 1.2s\u001b[0K\u001b[1G146.4 Mb [] 31% 1.2s\u001b[0K\u001b[1G146.4 Mb [] 32% 1.2s\u001b[0K\u001b[1G146.4 Mb [] 33% 1.2s\u001b[0K\u001b[1G146.4 Mb [] 34% 1.2s\u001b[0K\u001b[1G146.4 Mb [] 36% 1.1s\u001b[0K\u001b[1G146.4 Mb [] 38% 1.1s\u001b[0K\u001b[1G146.4 Mb [] 40% 1.0s\u001b[0K\u001b[1G146.4 Mb [] 42% 0.9s\u001b[0K\u001b[1G146.4 Mb [] 44% 0.9s\u001b[0K\u001b[1G146.4 Mb [] 46% 0.9s\u001b[0K\u001b[1G146.4 Mb [] 47% 0.8s\u001b[0K\u001b[1G146.4 Mb [] 49% 0.8s\u001b[0K\u001b[1G146.4 Mb [] 51% 0.7s\u001b[0K\u001b[1G146.4 Mb [] 53% 0.7s\u001b[0K\u001b[1G146.4 Mb [] 54% 0.7s\u001b[0K\u001b[1G146.4 Mb [] 55% 0.7s\u001b[0K\u001b[1G146.4 Mb [] 57% 0.6s\u001b[0K\u001b[1G146.4 Mb [] 59% 0.6s\u001b[0K\u001b[1G146.4 Mb [] 60% 0.6s\u001b[0K\u001b[1G146.4 Mb [] 62% 0.5s\u001b[0K\u001b[1G146.4 Mb [] 64% 0.5s\u001b[0K\u001b[1G146.4 Mb [] 66% 0.5s\u001b[0K\u001b[1G146.4 Mb [] 68% 0.4s\u001b[0K\u001b[1G146.4 Mb [] 69% 0.4s\u001b[0K\u001b[1G146.4 Mb [] 71% 0.4s\u001b[0K\u001b[1G146.4 Mb [] 73% 0.4s\u001b[0K\u001b[1G146.4 Mb [] 75% 0.3s\u001b[0K\u001b[1G146.4 Mb [] 76% 0.3s\u001b[0K\u001b[1G146.4 Mb [] 77% 0.3s\u001b[0K\u001b[1G146.4 Mb [] 79% 0.3s\u001b[0K\u001b[1G146.4 Mb [] 81% 0.3s\u001b[0K\u001b[1G146.4 Mb [] 82% 0.2s\u001b[0K\u001b[1G146.4 Mb [] 83% 0.2s\u001b[0K\u001b[1G146.4 Mb [] 85% 0.2s\u001b[0K\u001b[1G146.4 Mb [] 87% 0.2s\u001b[0K\u001b[1G146.4 Mb [] 88% 0.1s\u001b[0K\u001b[1G146.4 Mb [] 90% 0.1s\u001b[0K\u001b[1G146.4 Mb [] 91% 0.1s\u001b[0K\u001b[1G146.4 Mb [] 92% 0.1s\u001b[0K\u001b[1G146.4 Mb [] 94% 0.1s\u001b[0K\u001b[1G146.4 Mb [] 96% 0.1s\u001b[0K\u001b[1G146.4 Mb [] 97% 0.0s\u001b[0K\u001b[1G146.4 Mb [] 99% 0.0s\u001b[0K\u001b[1G146.4 Mb [] 100% 0.0s\u001b[0K\n",
            "Chromium 115.0.5790.24 (playwright build v1067) downloaded to /root/.cache/ms-playwright/chromium-1067\n",
            "Downloading FFMPEG playwright build v1009\u001b[2m from https://playwright.azureedge.net/builds/ffmpeg/1009/ffmpeg-linux.zip\u001b[22m\n",
            "\u001b[1G2.6 Mb [] 0% 0.0s\u001b[0K\u001b[1G2.6 Mb [] 3% 0.6s\u001b[0K\u001b[1G2.6 Mb [] 7% 0.5s\u001b[0K\u001b[1G2.6 Mb [] 14% 0.4s\u001b[0K\u001b[1G2.6 Mb [] 27% 0.2s\u001b[0K\u001b[1G2.6 Mb [] 47% 0.1s\u001b[0K\u001b[1G2.6 Mb [] 73% 0.0s\u001b[0K\u001b[1G2.6 Mb [] 94% 0.0s\u001b[0K\u001b[1G2.6 Mb [] 100% 0.0s\u001b[0K\n",
            "FFMPEG playwright build v1009 downloaded to /root/.cache/ms-playwright/ffmpeg-1009\n",
            "Downloading Firefox 113.0 (playwright build v1408)\u001b[2m from https://playwright.azureedge.net/builds/firefox/1408/firefox-ubuntu-20.04.zip\u001b[22m\n",
            "\u001b[1G78.7 Mb [] 0% 0.0s\u001b[0K\u001b[1G78.7 Mb [] 0% 20.3s\u001b[0K\u001b[1G78.7 Mb [] 0% 17.7s\u001b[0K\u001b[1G78.7 Mb [] 0% 13.8s\u001b[0K\u001b[1G78.7 Mb [] 0% 10.2s\u001b[0K\u001b[1G78.7 Mb [] 1% 7.2s\u001b[0K\u001b[1G78.7 Mb [] 2% 5.3s\u001b[0K\u001b[1G78.7 Mb [] 3% 3.8s\u001b[0K\u001b[1G78.7 Mb [] 4% 3.5s\u001b[0K\u001b[1G78.7 Mb [] 6% 2.8s\u001b[0K\u001b[1G78.7 Mb [] 7% 2.5s\u001b[0K\u001b[1G78.7 Mb [] 9% 2.2s\u001b[0K\u001b[1G78.7 Mb [] 11% 1.8s\u001b[0K\u001b[1G78.7 Mb [] 13% 1.6s\u001b[0K\u001b[1G78.7 Mb [] 15% 1.4s\u001b[0K\u001b[1G78.7 Mb [] 17% 1.4s\u001b[0K\u001b[1G78.7 Mb [] 18% 1.3s\u001b[0K\u001b[1G78.7 Mb [] 21% 1.1s\u001b[0K\u001b[1G78.7 Mb [] 25% 1.0s\u001b[0K\u001b[1G78.7 Mb [] 26% 1.0s\u001b[0K\u001b[1G78.7 Mb [] 29% 0.9s\u001b[0K\u001b[1G78.7 Mb [] 30% 0.8s\u001b[0K\u001b[1G78.7 Mb [] 33% 0.8s\u001b[0K\u001b[1G78.7 Mb [] 36% 0.7s\u001b[0K\u001b[1G78.7 Mb [] 39% 0.7s\u001b[0K\u001b[1G78.7 Mb [] 41% 0.6s\u001b[0K\u001b[1G78.7 Mb [] 44% 0.6s\u001b[0K\u001b[1G78.7 Mb [] 47% 0.5s\u001b[0K\u001b[1G78.7 Mb [] 50% 0.5s\u001b[0K\u001b[1G78.7 Mb [] 53% 0.4s\u001b[0K\u001b[1G78.7 Mb [] 55% 0.4s\u001b[0K\u001b[1G78.7 Mb [] 58% 0.4s\u001b[0K\u001b[1G78.7 Mb [] 60% 0.4s\u001b[0K\u001b[1G78.7 Mb [] 62% 0.3s\u001b[0K\u001b[1G78.7 Mb [] 65% 0.3s\u001b[0K\u001b[1G78.7 Mb [] 67% 0.3s\u001b[0K\u001b[1G78.7 Mb [] 70% 0.3s\u001b[0K\u001b[1G78.7 Mb [] 73% 0.2s\u001b[0K\u001b[1G78.7 Mb [] 77% 0.2s\u001b[0K\u001b[1G78.7 Mb [] 79% 0.2s\u001b[0K\u001b[1G78.7 Mb [] 83% 0.1s\u001b[0K\u001b[1G78.7 Mb [] 87% 0.1s\u001b[0K\u001b[1G78.7 Mb [] 90% 0.1s\u001b[0K\u001b[1G78.7 Mb [] 94% 0.0s\u001b[0K\u001b[1G78.7 Mb [] 97% 0.0s\u001b[0K\u001b[1G78.7 Mb [] 100% 0.0s\u001b[0K\n",
            "Firefox 113.0 (playwright build v1408) downloaded to /root/.cache/ms-playwright/firefox-1408\n",
            "Downloading Webkit 16.4 (playwright build v1860)\u001b[2m from https://playwright.azureedge.net/builds/webkit/1860/webkit-ubuntu-20.04.zip\u001b[22m\n",
            "\u001b[1G114.5 Mb [] 0% 0.0s\u001b[0K\u001b[1G114.5 Mb [] 0% 20.8s\u001b[0K\u001b[1G114.5 Mb [] 0% 10.3s\u001b[0K\u001b[1G114.5 Mb [] 1% 4.6s\u001b[0K\u001b[1G114.5 Mb [] 2% 2.9s\u001b[0K\u001b[1G114.5 Mb [] 3% 2.2s\u001b[0K\u001b[1G114.5 Mb [] 5% 1.9s\u001b[0K\u001b[1G114.5 Mb [] 5% 2.0s\u001b[0K\u001b[1G114.5 Mb [] 7% 1.7s\u001b[0K\u001b[1G114.5 Mb [] 9% 1.5s\u001b[0K\u001b[1G114.5 Mb [] 11% 1.3s\u001b[0K\u001b[1G114.5 Mb [] 12% 1.3s\u001b[0K\u001b[1G114.5 Mb [] 14% 1.2s\u001b[0K\u001b[1G114.5 Mb [] 16% 1.1s\u001b[0K\u001b[1G114.5 Mb [] 17% 1.1s\u001b[0K\u001b[1G114.5 Mb [] 18% 1.1s\u001b[0K\u001b[1G114.5 Mb [] 20% 1.0s\u001b[0K\u001b[1G114.5 Mb [] 21% 1.0s\u001b[0K\u001b[1G114.5 Mb [] 22% 1.0s\u001b[0K\u001b[1G114.5 Mb [] 25% 0.9s\u001b[0K\u001b[1G114.5 Mb [] 25% 1.0s\u001b[0K\u001b[1G114.5 Mb [] 26% 1.1s\u001b[0K\u001b[1G114.5 Mb [] 26% 1.2s\u001b[0K\u001b[1G114.5 Mb [] 26% 1.3s\u001b[0K\u001b[1G114.5 Mb [] 27% 1.3s\u001b[0K\u001b[1G114.5 Mb [] 28% 1.3s\u001b[0K\u001b[1G114.5 Mb [] 29% 1.2s\u001b[0K\u001b[1G114.5 Mb [] 30% 1.3s\u001b[0K\u001b[1G114.5 Mb [] 30% 1.4s\u001b[0K\u001b[1G114.5 Mb [] 31% 1.4s\u001b[0K\u001b[1G114.5 Mb [] 32% 1.4s\u001b[0K\u001b[1G114.5 Mb [] 33% 1.3s\u001b[0K\u001b[1G114.5 Mb [] 35% 1.3s\u001b[0K\u001b[1G114.5 Mb [] 37% 1.2s\u001b[0K\u001b[1G114.5 Mb [] 39% 1.1s\u001b[0K\u001b[1G114.5 Mb [] 40% 1.1s\u001b[0K\u001b[1G114.5 Mb [] 41% 1.1s\u001b[0K\u001b[1G114.5 Mb [] 43% 1.0s\u001b[0K\u001b[1G114.5 Mb [] 45% 1.0s\u001b[0K\u001b[1G114.5 Mb [] 46% 1.0s\u001b[0K\u001b[1G114.5 Mb [] 48% 0.9s\u001b[0K\u001b[1G114.5 Mb [] 51% 0.8s\u001b[0K\u001b[1G114.5 Mb [] 53% 0.8s\u001b[0K\u001b[1G114.5 Mb [] 54% 0.7s\u001b[0K\u001b[1G114.5 Mb [] 56% 0.7s\u001b[0K\u001b[1G114.5 Mb [] 58% 0.7s\u001b[0K\u001b[1G114.5 Mb [] 59% 0.6s\u001b[0K\u001b[1G114.5 Mb [] 61% 0.6s\u001b[0K\u001b[1G114.5 Mb [] 63% 0.6s\u001b[0K\u001b[1G114.5 Mb [] 64% 0.6s\u001b[0K\u001b[1G114.5 Mb [] 66% 0.5s\u001b[0K\u001b[1G114.5 Mb [] 68% 0.5s\u001b[0K\u001b[1G114.5 Mb [] 70% 0.4s\u001b[0K\u001b[1G114.5 Mb [] 72% 0.4s\u001b[0K\u001b[1G114.5 Mb [] 74% 0.4s\u001b[0K\u001b[1G114.5 Mb [] 76% 0.3s\u001b[0K\u001b[1G114.5 Mb [] 77% 0.3s\u001b[0K\u001b[1G114.5 Mb [] 79% 0.3s\u001b[0K\u001b[1G114.5 Mb [] 80% 0.3s\u001b[0K\u001b[1G114.5 Mb [] 83% 0.2s\u001b[0K\u001b[1G114.5 Mb [] 85% 0.2s\u001b[0K\u001b[1G114.5 Mb [] 88% 0.2s\u001b[0K\u001b[1G114.5 Mb [] 90% 0.1s\u001b[0K\u001b[1G114.5 Mb [] 93% 0.1s\u001b[0K\u001b[1G114.5 Mb [] 95% 0.1s\u001b[0K\u001b[1G114.5 Mb [] 98% 0.0s\u001b[0K\u001b[1G114.5 Mb [] 100% 0.0s\u001b[0K\n",
            "Webkit 16.4 (playwright build v1860) downloaded to /root/.cache/ms-playwright/webkit-1860\n"
          ]
        }
      ]
    },
    {
      "cell_type": "code",
      "execution_count": 3,
      "metadata": {
        "id": "3VpwmTxCGRw5"
      },
      "outputs": [],
      "source": [
        "import requests\n",
        "from bs4 import BeautifulSoup\n",
        "from PIL import Image\n",
        "from io import BytesIO\n",
        "import random\n",
        "import os\n",
        "import numpy as np\n",
        "from playwright.async_api import async_playwright"
      ]
    },
    {
      "cell_type": "code",
      "source": [
        "def match_span_class(tag):\n",
        "    parent_span = tag.find_parent('span')\n",
        "    if parent_span is not None:\n",
        "        span_classes = parent_span.get('class', [])\n",
        "        return any(cls.startswith('SummaryItemResponsive') for cls in span_classes)\n",
        "    return False"
      ],
      "metadata": {
        "id": "ZBBALlpUJP8m"
      },
      "execution_count": 4,
      "outputs": []
    },
    {
      "cell_type": "code",
      "source": [
        "from google.colab import drive\n",
        "drive.mount('/content/drive', force_remount=True)"
      ],
      "metadata": {
        "colab": {
          "base_uri": "https://localhost:8080/"
        },
        "id": "ikhfvYqFMT3X",
        "outputId": "22961948-a4b7-465f-fae8-073067016554"
      },
      "execution_count": 7,
      "outputs": [
        {
          "output_type": "stream",
          "name": "stdout",
          "text": [
            "Mounted at /content/drive\n"
          ]
        }
      ]
    },
    {
      "cell_type": "code",
      "source": [
        "faces = ['smiling-person', 'anger-person', 'disgust-person', 'fear-person', 'surprise-person' ]"
      ],
      "metadata": {
        "id": "Iw0vXrmNSAbS"
      },
      "execution_count": 5,
      "outputs": []
    },
    {
      "cell_type": "code",
      "source": [
        "data_path = 'drive/MyDrive/faces/data'"
      ],
      "metadata": {
        "id": "amCxwjtGIMNR"
      },
      "execution_count": 17,
      "outputs": []
    },
    {
      "cell_type": "code",
      "source": [
        "def get_image(photo_url, path, file_name, face):\n",
        "  image_response = requests.get(photo_url)\n",
        "  image_content = image_response.content\n",
        "  img = Image.open(BytesIO(image_content))\n",
        "  if img.mode == 'RGB':\n",
        "    os.makedirs(f'{path}/{face}', exist_ok=True)\n",
        "    img.save(f'{path}/{face}/{file_name}', 'png')"
      ],
      "metadata": {
        "id": "IG63DDCbHtDY"
      },
      "execution_count": 36,
      "outputs": []
    },
    {
      "cell_type": "code",
      "source": [
        "def get_photos(source, path, face):\n",
        "  for image in source:\n",
        "    http = image.find('https://')\n",
        "    if http != -1:\n",
        "      file_name = image.split('/')[-1]\n",
        "      get_image(image, path, file_name, face)"
      ],
      "metadata": {
        "id": "dPixfrVTJdUi"
      },
      "execution_count": 9,
      "outputs": []
    },
    {
      "cell_type": "code",
      "source": [
        "#pages implicated by hand\n",
        "images = []\n",
        "for face in faces:\n",
        "  modified_face = face.replace('-', '%20')\n",
        "  async def run():\n",
        "    async with async_playwright() as p:\n",
        "      browser = await p.chromium.launch()\n",
        "      page = await browser.new_page()\n",
        "      await page.goto(f'https://www.istockphoto.com/pl/search/2/image?page=20&phrase={modified_face}') #input pages from 1-100\n",
        "      # Get the page content\n",
        "      content = await page.content()\n",
        "      await browser.close()\n",
        "      # Use Beautiful Soup to parse the HTML\n",
        "      soup = BeautifulSoup(content, 'html.parser')\n",
        "      # Find all image tags and add their src attributes to the image_sources list\n",
        "      all_images = soup.find_all('img')\n",
        "      images_in_span = soup.find_all(lambda tag: tag.name == 'img' and match_span_class(tag))\n",
        "      interesting_images = [img for img in all_images if img not in images_in_span]\n",
        "      for img in interesting_images:\n",
        "        src = img.get('src')\n",
        "        images.append(src)\n",
        "      get_photos(images, data_path, face)\n",
        "      print(f\"Downloaded {len(images)} photos.\")\n",
        "      print(f\"{len(os.listdir(f'{data_path}/{face}'))} photos in {face} folder.\")\n",
        "  images = []\n",
        "  await run()"
      ],
      "metadata": {
        "id": "cHUgnsq3Irra",
        "colab": {
          "base_uri": "https://localhost:8080/"
        },
        "outputId": "1b50547d-a2a7-482f-9aa0-e0af40a2ce7e"
      },
      "execution_count": 49,
      "outputs": [
        {
          "output_type": "stream",
          "name": "stdout",
          "text": [
            "Downloaded 61 photos.\n",
            "1200 photos in smiling-person folder.\n",
            "Downloaded 61 photos.\n",
            "1169 photos in anger-person folder.\n",
            "Downloaded 61 photos.\n",
            "1190 photos in disgust-person folder.\n",
            "Downloaded 61 photos.\n",
            "1173 photos in fear-person folder.\n",
            "Downloaded 61 photos.\n",
            "1198 photos in surprise-person folder.\n"
          ]
        }
      ]
    }
  ]
}